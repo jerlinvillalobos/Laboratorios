{
  "cells": [
    {
      "cell_type": "markdown",
      "metadata": {
        "id": "view-in-github",
        "colab_type": "text"
      },
      "source": [
        "<a href=\"https://colab.research.google.com/github/jerlinvillalobos/Laboratorios/blob/main/TP1/Laboratorio_4.ipynb\" target=\"_parent\"><img src=\"https://colab.research.google.com/assets/colab-badge.svg\" alt=\"Open In Colab\"/></a>"
      ]
    },
    {
      "cell_type": "markdown",
      "metadata": {
        "id": "gPpaTbDlBN_G"
      },
      "source": [
        "<img src=\"https://github.com/randall-romero/EC4301/blob/master/Laboratorios/01--Introducci%C3%B3n-a-Python/figures/escuela-de-economia.png?raw=1\" width=\"260\" height=\"60\">\n",
        "<center>\n",
        "    <b>EC4300 MICROECONOMETRÍA</b><br>\n",
        "    <b>Asistente:  Jerlin Villalobos</b>\n",
        "<br><br>\n",
        "<b>Laboratorio 4:</b>\n",
        "<br>    \n",
        "<div style=\"font-size:250%;color:white; background-color: #0064b0;\">Introducción a Python</div>\n",
        "<div style=\"font-size:175%;color:white; background-color: #0064b0;\">Parte 5: Funciones</div>    \n",
        "\n",
        "</center>\n",
        "<br><br>\n",
        "<p style=\"font-size:120%;\">Este cuaderno toma como fuente los cuadernos de Jupyter desarrollados por Phd. Randall Romero. Se toma el\n",
        "    <a href=\"https://colab.research.google.com/github/randall-romero/EC4301/blob/master/Laboratorios/01--Introducci%C3%B3n-a-Python/Python-05--Funciones.ipynb\"> Lab de python 05</a>\n",
        "\n",
        "\n",
        "\n",
        "<i> Última actualización del cuaderno original: 2020-Ago-18\n",
        "    <br>\n",
        "    Creado: Agosto 2, 2024\n",
        "</i>\n",
        "\n",
        "<hr>\n"
      ]
    },
    {
      "cell_type": "markdown",
      "metadata": {
        "id": "jqqcmtP3BN_I"
      },
      "source": [
        "# Funciones\n",
        "\n",
        "Las funciones son objetos que permiten realizar tareas específicas de una manera más ordenada, sin hacer copias innecesarias del código. Esto facilita enormemente el mantenimiento del código."
      ]
    },
    {
      "cell_type": "markdown",
      "metadata": {
        "id": "ZVd95j6cBN_I"
      },
      "source": [
        "## Funciones como objetos"
      ]
    },
    {
      "cell_type": "markdown",
      "metadata": {
        "id": "Vc1bmxsCBN_I"
      },
      "source": [
        "En Python las funciones también son **objetos**, que pueden, por ejemplo,\n",
        "* copiarse\n",
        "* ser miembro de una colección (lista, tupla, diccionario)\n",
        "* pasarse como un argumento de otra función"
      ]
    },
    {
      "cell_type": "code",
      "execution_count": null,
      "metadata": {
        "id": "CoavEsjIBN_I",
        "colab": {
          "base_uri": "https://localhost:8080/"
        },
        "outputId": "0c75c6c6-d2c4-4720-be4e-b5cd547a192e"
      },
      "outputs": [
        {
          "output_type": "execute_result",
          "data": {
            "text/plain": [
              "builtin_function_or_method"
            ]
          },
          "metadata": {},
          "execution_count": 1
        }
      ],
      "source": [
        "type(max)  #En Python, max es una función incorporada que se utiliza para encontrar el valor máximo de un iterable o entre dos o más valores dados"
      ]
    },
    {
      "cell_type": "markdown",
      "metadata": {
        "id": "dxVP3NHjBN_J"
      },
      "source": [
        "### ser miembro de una colección"
      ]
    },
    {
      "cell_type": "code",
      "execution_count": null,
      "metadata": {
        "id": "uRXfLAfrBN_J",
        "colab": {
          "base_uri": "https://localhost:8080/"
        },
        "outputId": "594c6bb3-4619-4322-aa7d-b2b84efe31d1"
      },
      "outputs": [
        {
          "output_type": "execute_result",
          "data": {
            "text/plain": [
              "[0.8660254037844386, 0.5000000000000001, 1.7320508075688767]"
            ]
          },
          "metadata": {},
          "execution_count": 2
        }
      ],
      "source": [
        "from math import sin, cos, tan, pi  #importar funciones trigonométricas de la biblioteca \"math\"\n",
        "\n",
        "𝜋 = pi\n",
        "\n",
        "trigonometricas = (sin, cos, tan)  #crear una tupla de funciones trigonométricas\n",
        "[f(𝜋/3) for f in trigonometricas]  #aplicamos la función f para cada elemento dentro de la tupla"
      ]
    },
    {
      "cell_type": "markdown",
      "metadata": {
        "id": "0XVPvXcIBN_K"
      },
      "source": [
        "### copiarse"
      ]
    },
    {
      "cell_type": "code",
      "execution_count": null,
      "metadata": {
        "id": "yyslHGJQBN_K",
        "colab": {
          "base_uri": "https://localhost:8080/"
        },
        "outputId": "d029da52-b394-4c07-9f44-5855a7c89e46"
      },
      "outputs": [
        {
          "output_type": "execute_result",
          "data": {
            "text/plain": [
              "0.5000000000000001"
            ]
          },
          "metadata": {},
          "execution_count": 3
        }
      ],
      "source": [
        "coseno = cos\n",
        "coseno(𝜋/3)"
      ]
    },
    {
      "cell_type": "markdown",
      "metadata": {
        "id": "BdFUUlsUBN_K"
      },
      "source": [
        "### pasarse como argumento de otra función"
      ]
    },
    {
      "cell_type": "code",
      "execution_count": null,
      "metadata": {
        "id": "QiZjISNJBN_K",
        "colab": {
          "base_uri": "https://localhost:8080/"
        },
        "outputId": "0d83d29e-2c97-4038-bbde-302bb7567cfd"
      },
      "outputs": [
        {
          "output_type": "execute_result",
          "data": {
            "text/plain": [
              "0.9999999999999999"
            ]
          },
          "metadata": {},
          "execution_count": 7
        }
      ],
      "source": [
        "from scipy import integrate\n",
        "\n",
        "integrate.quad(cos, 0, 𝜋/2)[0]    #calcula la integral de coseno desde 0 hasta 𝜋/2"
      ]
    },
    {
      "cell_type": "markdown",
      "source": [
        "Cuando se llama a integrate.quad, se retorna una tupla de dos elementos:\n",
        "\n",
        "El valor de la integral calculado.\n",
        "Una estimación del error absoluto en el valor de la integral.\n",
        "\n",
        "El [0] selecciona el primer elemento de esta tupla, que es el valor de la integral."
      ],
      "metadata": {
        "id": "_rx2vixvNpLr"
      }
    },
    {
      "cell_type": "markdown",
      "metadata": {
        "id": "emhr17JYBN_K"
      },
      "source": [
        "# Definiendo funciones\n",
        "\n",
        "Una función se crea usando la palabra clave `def` (definition) seguida de un nombre de su escogencia y paréntesis `( )`.\n",
        "\n",
        "El programador puede escoger cualquier nombre para una función, excepto las palabras claves de Python y el nombre de funciones integradas existentes.\n",
        "\n",
        "Esta línea debe terminar con un `:`, luego deben seguir las instrucciones que la función ejecuta cuando es llamada, en líneas indentadas.\n",
        "\n",
        "Por tanto, la sintaxis se ve así:\n",
        "```\n",
        "def function-name( ):\n",
        "    statements-to-be-executed\n",
        "    statements-to-be-executed\n",
        "```    "
      ]
    },
    {
      "cell_type": "markdown",
      "metadata": {
        "id": "b9Gf2kkABN_K"
      },
      "source": [
        "Para averiguar las palabras claves de Python:"
      ]
    },
    {
      "cell_type": "code",
      "execution_count": null,
      "metadata": {
        "id": "dljmlxfdBN_L",
        "colab": {
          "base_uri": "https://localhost:8080/"
        },
        "outputId": "596642c4-620a-48dc-c96e-093d2f0cf843"
      },
      "outputs": [
        {
          "output_type": "stream",
          "name": "stdout",
          "text": [
            "['False', 'None', 'True', 'and', 'as', 'assert', 'async', 'await', 'break', 'class', 'continue', 'def', 'del', 'elif', 'else', 'except', 'finally', 'for', 'from', 'global', 'if', 'import', 'in', 'is', 'lambda', 'nonlocal', 'not', 'or', 'pass', 'raise', 'return', 'try', 'while', 'with', 'yield']\n"
          ]
        }
      ],
      "source": [
        "import keyword\n",
        "print(keyword.kwlist)"
      ]
    },
    {
      "cell_type": "markdown",
      "metadata": {
        "id": "zMs8pK2DBN_L"
      },
      "source": [
        "## Una función sin argumentos"
      ]
    },
    {
      "cell_type": "code",
      "execution_count": null,
      "metadata": {
        "id": "_kGu_D4XBN_L"
      },
      "outputs": [],
      "source": [
        "def hello( ):\n",
        "    print('Hello')\n",
        "    print('Welcome to the UCR!')"
      ]
    },
    {
      "cell_type": "markdown",
      "metadata": {
        "id": "vJGIDymfBN_L"
      },
      "source": [
        "Para correr esta función"
      ]
    },
    {
      "cell_type": "code",
      "execution_count": null,
      "metadata": {
        "id": "FqRLQVfRBN_L",
        "colab": {
          "base_uri": "https://localhost:8080/"
        },
        "outputId": "737000b8-cbde-43f9-af42-f1b782f1ea30"
      },
      "outputs": [
        {
          "output_type": "stream",
          "name": "stdout",
          "text": [
            "Hello\n",
            "Welcome to the UCR!\n"
          ]
        }
      ],
      "source": [
        "hello()"
      ]
    },
    {
      "cell_type": "code",
      "execution_count": null,
      "metadata": {
        "id": "InXE-88fBN_L"
      },
      "outputs": [],
      "source": [
        "saludar = hello"
      ]
    },
    {
      "cell_type": "code",
      "execution_count": null,
      "metadata": {
        "id": "ECSjQaYZBN_L",
        "colab": {
          "base_uri": "https://localhost:8080/"
        },
        "outputId": "92dfa405-8d84-451a-82ec-18d75cec4b91"
      },
      "outputs": [
        {
          "output_type": "stream",
          "name": "stdout",
          "text": [
            "Hello\n",
            "Welcome to the UCR!\n"
          ]
        }
      ],
      "source": [
        "saludar()"
      ]
    },
    {
      "cell_type": "markdown",
      "metadata": {
        "id": "0QdzXiyxBN_L"
      },
      "source": [
        "## Una función con argumentos\n",
        "\n",
        "Supongamos que deseamos escribir una función para convertir un dato de temperatura de Celsius a Fahrenheit. Para ello, sabemos que:\n",
        "$$F = \\tfrac{9}{5}C + 32 = 1.8C + 32$$"
      ]
    },
    {
      "cell_type": "code",
      "execution_count": null,
      "metadata": {
        "scrolled": true,
        "id": "Re7a9JTOBN_M",
        "colab": {
          "base_uri": "https://localhost:8080/"
        },
        "outputId": "a665623a-5d6f-47c4-af87-aecf448b3721"
      },
      "outputs": [
        {
          "output_type": "stream",
          "name": "stdout",
          "text": [
            "15.0° Celsius equals 59.0 Fahrenheit\n"
          ]
        }
      ],
      "source": [
        "def c2f(c):    #c es el parámetro\n",
        "    f = 1.8 * c + 32   #fórmula de conversión\n",
        "    print(f'{c:.1f}° Celsius equals {f:.1f} Fahrenheit')   #1f es para poner una cifra decimal\n",
        "\n",
        "c2f(15)"
      ]
    },
    {
      "cell_type": "code",
      "execution_count": null,
      "metadata": {
        "id": "j49dMQ5dBN_M",
        "colab": {
          "base_uri": "https://localhost:8080/"
        },
        "outputId": "8ca12d94-a5ca-4168-f0a0-1aa0e75a631e"
      },
      "outputs": [
        {
          "output_type": "stream",
          "name": "stdout",
          "text": [
            "100.0° Celsius equals 212.0 Fahrenheit\n"
          ]
        }
      ],
      "source": [
        "y = c2f(100)"
      ]
    },
    {
      "cell_type": "markdown",
      "metadata": {
        "id": "h2no6m_YBN_M"
      },
      "source": [
        "## Una función que retorna un valor"
      ]
    },
    {
      "cell_type": "code",
      "execution_count": null,
      "metadata": {
        "id": "-atBokucBN_M",
        "colab": {
          "base_uri": "https://localhost:8080/"
        },
        "outputId": "f0b7a320-f1c1-489a-8e03-31449abf1db1"
      },
      "outputs": [
        {
          "output_type": "stream",
          "name": "stdout",
          "text": [
            "59.0\n"
          ]
        }
      ],
      "source": [
        "def c2f(c):\n",
        "    f = 1.8 * c + 32\n",
        "    return f             #La línea return f indica que cuando se llama a la función c2f(c), se devolverá el valor de f\n",
        "\n",
        "x = c2f(15)\n",
        "print(x)"
      ]
    },
    {
      "cell_type": "markdown",
      "metadata": {
        "id": "NT6wM2ExBN_N"
      },
      "source": [
        "## Una función con parámetros predeterminados"
      ]
    },
    {
      "cell_type": "code",
      "execution_count": null,
      "metadata": {
        "id": "U4mLN4e5BN_N"
      },
      "outputs": [],
      "source": [
        "def c2f(c, show=False):    #show es un parámetro predeterminado, y no sé mostrará al menos que lo pidamos\n",
        "    f = 1.8 * c + 32\n",
        "    if show:\n",
        "        print(f'{c:.1f}° Celsius = {f:.1f} Fahrenheit')\n",
        "    return f\n",
        "\n",
        "c2f(15)"
      ]
    },
    {
      "cell_type": "code",
      "execution_count": null,
      "metadata": {
        "id": "BBMY3XyjBN_N",
        "colab": {
          "base_uri": "https://localhost:8080/"
        },
        "outputId": "f6bac5b5-b66a-4d4b-e00c-6e580765fb27"
      },
      "outputs": [
        {
          "output_type": "stream",
          "name": "stdout",
          "text": [
            "15.0° Celsius = 59.0 Fahrenheit\n"
          ]
        }
      ],
      "source": [
        "c2f(15, show=True)"
      ]
    },
    {
      "cell_type": "code",
      "execution_count": null,
      "metadata": {
        "scrolled": true,
        "id": "Uz57YIAHBN_N",
        "colab": {
          "base_uri": "https://localhost:8080/"
        },
        "outputId": "7301d2f0-4176-460d-dcc3-c00acbf65ba3"
      },
      "outputs": [
        {
          "output_type": "stream",
          "name": "stdout",
          "text": [
            "15.0° Celsius = 59.0 Fahrenheit\n"
          ]
        },
        {
          "output_type": "execute_result",
          "data": {
            "text/plain": [
              "59.0"
            ]
          },
          "metadata": {},
          "execution_count": 5
        }
      ],
      "source": [
        "c2f(15, True)"
      ]
    },
    {
      "cell_type": "markdown",
      "metadata": {
        "id": "f0ugJm1TBN_N"
      },
      "source": [
        "## Una función con un número indefinido de parámetros posicionales\n",
        "\n",
        "Supongamos que queremos escribir una función que dependa de un número indefinido de parámetros. Por ejemplo, la función `print` imprime un número arbitrario de elementos:"
      ]
    },
    {
      "cell_type": "code",
      "execution_count": null,
      "metadata": {
        "id": "Xt7UwJ0pBN_N",
        "colab": {
          "base_uri": "https://localhost:8080/"
        },
        "outputId": "77c0b3a3-df4c-4c57-ca3c-fb8b5c52e7c2"
      },
      "outputs": [
        {
          "output_type": "stream",
          "name": "stdout",
          "text": [
            "3 4 6\n"
          ]
        }
      ],
      "source": [
        "print(3,4,6)\n"
      ]
    },
    {
      "cell_type": "code",
      "execution_count": null,
      "metadata": {
        "id": "Ls5HZ4P_BN_O",
        "colab": {
          "base_uri": "https://localhost:8080/"
        },
        "outputId": "b4b0fd7c-28f8-48eb-b037-3698f53c9551"
      },
      "outputs": [
        {
          "output_type": "stream",
          "name": "stdout",
          "text": [
            "5 3 7 1 perro\n"
          ]
        }
      ],
      "source": [
        "print(5,3,7,1,\"perro\")"
      ]
    },
    {
      "cell_type": "markdown",
      "metadata": {
        "id": "mhCeWqV_BN_O"
      },
      "source": [
        "Claramente no sería práctico hacer una función distinta para cada posible número de argumentos. Para ello utilizamos `*args` en la definición de la función. Por ejemplo, para escribir una operación de suma:"
      ]
    },
    {
      "cell_type": "code",
      "execution_count": null,
      "metadata": {
        "id": "36tnHVkoBN_O"
      },
      "outputs": [],
      "source": [
        "def imprimir_suma(*args):   #acepta una cantidad indefinida de valores, es una tupla\n",
        "    numeros = (str(x) for x in args)   #itera en args, pasa todo lo que haya en args a letras\n",
        "    sumando = ' + '.join(numeros)      #adjuntar \"+\" a todas las entradas de la variable números\n",
        "    resultado = sum(args)              #suma lo que haya en args\n",
        "    print(sumando, \" = \", resultado)\n",
        "    print('args = ', args)\n",
        "    print('*args = ', *args)          #el * agarra los elementos de la tupla y solo los imprime tal cual\n",
        "    print(type(sumando))    #para ver que es letra"
      ]
    },
    {
      "cell_type": "code",
      "execution_count": null,
      "metadata": {
        "id": "GWCf7RrLBN_O",
        "colab": {
          "base_uri": "https://localhost:8080/"
        },
        "outputId": "bf2a2dca-ffcf-4417-a80c-e4b02a563677"
      },
      "outputs": [
        {
          "output_type": "stream",
          "name": "stdout",
          "text": [
            "3 + 2 + 5  =  10\n",
            "args =  (3, 2, 5)\n",
            "*args =  3 2 5\n",
            "<class 'str'>\n"
          ]
        }
      ],
      "source": [
        "imprimir_suma(3,2,5)"
      ]
    },
    {
      "cell_type": "markdown",
      "metadata": {
        "id": "yLkOs7HNBN_O"
      },
      "source": [
        "Vemos que a lo interno de la función, `args` es una tupla, mientras que `*args` son los elementos individuales de esa tupla."
      ]
    },
    {
      "cell_type": "markdown",
      "metadata": {
        "id": "lsjim2SyBN_O"
      },
      "source": [
        "## Una función con un número indefinido de parámetros de palabra clave\n",
        "\n",
        "Supongamos que queremos escribir una función que dependa de un número indefinido de parámetros de palabras clave (usualmente para especificar opciones). Para ello, agrupamos esos parámetros en la variable `**kwargs`"
      ]
    },
    {
      "cell_type": "code",
      "execution_count": null,
      "metadata": {
        "id": "lT9Foh2uBN_O"
      },
      "outputs": [],
      "source": [
        "def imprimir_opciones(**kwargs):    #kwargs es un diccionario\n",
        "    for parametro, valor in kwargs.items():     #items es para que tome tanto las llaves como valores\n",
        "        print(parametro, \" = \", valor)\n",
        "    print('kwargs = ', kwargs)"
      ]
    },
    {
      "cell_type": "code",
      "execution_count": null,
      "metadata": {
        "id": "q7_qUg2rBN_T",
        "colab": {
          "base_uri": "https://localhost:8080/"
        },
        "outputId": "714abc3f-a162-4e0d-a6e9-385d67284833"
      },
      "outputs": [
        {
          "output_type": "stream",
          "name": "stdout",
          "text": [
            "color  =  rojo\n",
            "modelo  =  2018\n",
            "marca  =  Honda\n",
            "estilo  =  SUV\n",
            "kwargs =  {'color': 'rojo', 'modelo': '2018', 'marca': 'Honda', 'estilo': 'SUV'}\n"
          ]
        }
      ],
      "source": [
        "imprimir_opciones(color='rojo', modelo='2018', marca='Honda', estilo='SUV')"
      ]
    },
    {
      "cell_type": "markdown",
      "metadata": {
        "id": "h0xc0r9wBN_T"
      },
      "source": [
        "Vemos que a lo interno de la función, `**kwargs` es un diccionario. Esta característica de Python es muy útil para fijar un grupo de opciones en un diccionario y pasarlas repetidamente a funciones. Por ejemplo, la función `print` separa elementos con un espacio y termina la operación con un salto de linea:"
      ]
    },
    {
      "cell_type": "code",
      "execution_count": null,
      "metadata": {
        "id": "nb_Qe4YSBN_U",
        "colab": {
          "base_uri": "https://localhost:8080/"
        },
        "outputId": "5e9fc571-ab82-4e0a-a352-54f0bb694b61"
      },
      "outputs": [
        {
          "output_type": "execute_result",
          "data": {
            "text/plain": [
              "<function print>"
            ]
          },
          "metadata": {},
          "execution_count": 25
        }
      ],
      "source": [
        "print"
      ]
    },
    {
      "cell_type": "markdown",
      "metadata": {
        "id": "HF2LeTbkBN_U"
      },
      "source": [
        "Podemos cambiar estos valores repetidamente así:"
      ]
    },
    {
      "cell_type": "code",
      "execution_count": null,
      "metadata": {
        "id": "USUvE9cZBN_U"
      },
      "outputs": [],
      "source": [
        "OPCIONES = {'sep': ' /*\\ ', 'end': '\\n\\n'}"
      ]
    },
    {
      "cell_type": "code",
      "execution_count": null,
      "metadata": {
        "id": "YPRANxkABN_U",
        "colab": {
          "base_uri": "https://localhost:8080/"
        },
        "outputId": "97e114eb-5da2-4bb4-ae32-bab13f487939"
      },
      "outputs": [
        {
          "output_type": "stream",
          "name": "stdout",
          "text": [
            "1 2 3\n",
            "4 5 6\n"
          ]
        }
      ],
      "source": [
        "print(1,2,3)    #vemos que el print normal lo separa así\n",
        "print(4,5,6)"
      ]
    },
    {
      "cell_type": "code",
      "execution_count": null,
      "metadata": {
        "id": "LeN2pbg4BN_U",
        "colab": {
          "base_uri": "https://localhost:8080/"
        },
        "outputId": "0552954f-d4f6-4ddc-ac55-e8ff4067417a"
      },
      "outputs": [
        {
          "output_type": "stream",
          "name": "stdout",
          "text": [
            "1 /*\\ 2 /*\\ 3\n",
            "\n",
            "4 /*\\ 5 /*\\ 6\n",
            "\n"
          ]
        }
      ],
      "source": [
        "print(1,2,3, **OPCIONES)    #llamamos a la variable OPCIONES y esto aplicará el separado y el espaciado a el print\n",
        "print(4,5,6, **OPCIONES)"
      ]
    },
    {
      "cell_type": "code",
      "execution_count": null,
      "metadata": {
        "id": "SDCVSTjEBN_U",
        "colab": {
          "base_uri": "https://localhost:8080/"
        },
        "outputId": "6653905e-0553-4d57-e469-112b84b8ddb4"
      },
      "outputs": [
        {
          "output_type": "stream",
          "name": "stdout",
          "text": [
            "3 2 5 {'sep': ' /*\\\\ ', 'end': '\\n\\n'}\n"
          ]
        }
      ],
      "source": [
        "print(3,2,5, OPCIONES)"
      ]
    },
    {
      "cell_type": "markdown",
      "metadata": {
        "id": "uUzNOHETBN_U"
      },
      "source": [
        "En la práctica, podemos combinar ambas características:"
      ]
    },
    {
      "cell_type": "code",
      "execution_count": null,
      "metadata": {
        "id": "2pE7c5xsBN_U"
      },
      "outputs": [],
      "source": [
        "def imprimir_operacion(*numeros, **print_options):\n",
        "    print('Sin tomar en cuenta las opciones, la tupla de números es ')\n",
        "    print(*numeros)\n",
        "    print('pero tomando en cuenta las opciones, la tupla de números es ')\n",
        "    print(*numeros, **print_options)"
      ]
    },
    {
      "cell_type": "code",
      "execution_count": null,
      "metadata": {
        "id": "1ynYqHZBBN_V",
        "colab": {
          "base_uri": "https://localhost:8080/"
        },
        "outputId": "d372eb6b-92cc-4a2a-bff1-42d35356b981"
      },
      "outputs": [
        {
          "output_type": "stream",
          "name": "stdout",
          "text": [
            "Sin tomar en cuenta las opciones, la tupla de números es \n",
            "2 5 3 6 8 1\n",
            "pero tomando en cuenta las opciones, la tupla de números es \n",
            "2 5 3 6 8 1\n"
          ]
        }
      ],
      "source": [
        "imprimir_operacion(2,5,3,6,8,1)    #vemos que es lo mismo, porque no le estamos diciendo como queremos cambiar el print"
      ]
    },
    {
      "cell_type": "code",
      "execution_count": null,
      "metadata": {
        "id": "b1o4Z-BQBN_V",
        "colab": {
          "base_uri": "https://localhost:8080/"
        },
        "outputId": "6ec12352-2b87-4d25-d6be-e996626edb0a"
      },
      "outputs": [
        {
          "output_type": "stream",
          "name": "stdout",
          "text": [
            "Sin tomar en cuenta las opciones, la tupla de números es \n",
            "2 5 3 6 8 1\n",
            "pero tomando en cuenta las opciones, la tupla de números es \n",
            "2 * 5 * 3 * 6 * 8 * 1 = ¿quién sabe?!!\n"
          ]
        }
      ],
      "source": [
        "OPCIONES = dict(sep = ' * ', end = ' = ¿quién sabe?!!\\n')\n",
        "imprimir_operacion(2,5,3,6,8,1, **OPCIONES)"
      ]
    },
    {
      "cell_type": "markdown",
      "metadata": {
        "id": "Gva2h3SLBN_V"
      },
      "source": [
        "Vemos que lo importante de `*args` y `**kwargs` es el número de asteriscos, no el nombre mismo de la variable."
      ]
    },
    {
      "cell_type": "markdown",
      "metadata": {
        "id": "IZMSaS9ABN_V"
      },
      "source": [
        "# Documentando una función\n",
        "\n",
        "¡Es muy importante documentar lo que hace su código!"
      ]
    },
    {
      "cell_type": "code",
      "execution_count": null,
      "metadata": {
        "id": "mk9SQB-sBN_V"
      },
      "outputs": [],
      "source": [
        "def c2f(c, show=False):\n",
        "    \"\"\"\n",
        "    Converts temperature data from Celsius degrees to Fahrenheit degrees\n",
        "\n",
        "    Input:\n",
        "      c: a scalar number, degrees in Celsius\n",
        "      show: a boolean, whether to print the outcome\n",
        "    Output:\n",
        "      a scalar number, degrees in Fahrenheit\n",
        "    Example:\n",
        "      c2f(0)  # returns 32.0\n",
        "    \"\"\"\n",
        "    f = 1.8 * c + 32\n",
        "    if show:\n",
        "        print(f'{c:.1f}° Celsius = {f:.1f} Fahrenheit')\n",
        "    return f\n",
        "\n",
        "z = c2f(15)"
      ]
    },
    {
      "cell_type": "code",
      "execution_count": null,
      "metadata": {
        "inputHidden": false,
        "outputHidden": false,
        "scrolled": true,
        "id": "5siTkg8eBN_V",
        "colab": {
          "base_uri": "https://localhost:8080/"
        },
        "outputId": "34240463-2b4d-4435-a1e9-2c7b5bf4a622"
      },
      "outputs": [
        {
          "output_type": "stream",
          "name": "stdout",
          "text": [
            "Help on function c2f in module __main__:\n",
            "\n",
            "c2f(c, show=False)\n",
            "    Converts temperature data from Celsius degrees to Fahrenheit degrees\n",
            "    \n",
            "    Input:\n",
            "      c: a scalar number, degrees in Celsius\n",
            "      show: a boolean, whether to print the outcome\n",
            "    Output:\n",
            "      a scalar number, degrees in Fahrenheit\n",
            "    Example:\n",
            "      c2f(0)  # returns 32.0\n",
            "\n"
          ]
        }
      ],
      "source": [
        "help(c2f)"
      ]
    },
    {
      "cell_type": "code",
      "execution_count": null,
      "metadata": {
        "id": "HEhkSIZIBN_W"
      },
      "outputs": [],
      "source": [
        "?c2f   #cualquiera de las dos funciona"
      ]
    },
    {
      "cell_type": "markdown",
      "metadata": {
        "id": "La-mjCQZBN_W"
      },
      "source": [
        "# Entendiendo el ámbito de una variable"
      ]
    },
    {
      "cell_type": "markdown",
      "metadata": {
        "id": "ICp5EfTWBN_W"
      },
      "source": [
        "Cuando una función encuentra una variable dentro de su definición que no ha sido definida dentro de la función, buscará su definición en el ambiente donde la función fue definida."
      ]
    },
    {
      "cell_type": "code",
      "execution_count": null,
      "metadata": {
        "id": "CnECfJipBN_W"
      },
      "outputs": [],
      "source": [
        "pi = 3.1415\n",
        "\n",
        "def area(r):\n",
        "    A = pi * r**2\n",
        "    return A"
      ]
    },
    {
      "cell_type": "code",
      "execution_count": null,
      "metadata": {
        "id": "k73x67CmBN_W",
        "colab": {
          "base_uri": "https://localhost:8080/"
        },
        "outputId": "4e793f6e-3156-4f0c-d884-91331ae4456e"
      },
      "outputs": [
        {
          "output_type": "execute_result",
          "data": {
            "text/plain": [
              "3.1415"
            ]
          },
          "metadata": {},
          "execution_count": 22
        }
      ],
      "source": [
        "pi"
      ]
    },
    {
      "cell_type": "code",
      "execution_count": null,
      "metadata": {
        "id": "3V0MjLdhBN_W",
        "colab": {
          "base_uri": "https://localhost:8080/"
        },
        "outputId": "4831d584-76ea-4119-ba2b-ebaeb01793c3"
      },
      "outputs": [
        {
          "output_type": "stream",
          "name": "stdout",
          "text": [
            "314.15000000000003\n"
          ]
        }
      ],
      "source": [
        "print(area(10))"
      ]
    },
    {
      "cell_type": "markdown",
      "metadata": {
        "id": "zcIX0uGlBN_X"
      },
      "source": [
        "<div style=\"font-size:175%;text-align: right; background-color: #cce7e8;\">\n",
        "    <a href=\"./Python-06--Módulos.ipynb\">siguiente cuaderno >></a>\n",
        "</div>  \n"
      ]
    }
  ],
  "metadata": {
    "kernel_info": {
      "name": "python3"
    },
    "kernelspec": {
      "display_name": "Python 3",
      "language": "python",
      "name": "python3"
    },
    "language_info": {
      "codemirror_mode": {
        "name": "ipython",
        "version": 3
      },
      "file_extension": ".py",
      "mimetype": "text/x-python",
      "name": "python",
      "nbconvert_exporter": "python",
      "pygments_lexer": "ipython3",
      "version": "3.7.8"
    },
    "nteract": {
      "version": "0.14.3"
    },
    "toc-autonumbering": false,
    "toc-showtags": false,
    "colab": {
      "provenance": [],
      "include_colab_link": true
    }
  },
  "nbformat": 4,
  "nbformat_minor": 0
}