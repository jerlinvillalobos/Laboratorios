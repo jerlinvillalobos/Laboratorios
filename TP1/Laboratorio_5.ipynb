{
  "cells": [
    {
      "cell_type": "markdown",
      "metadata": {
        "id": "view-in-github",
        "colab_type": "text"
      },
      "source": [
        "<a href=\"https://colab.research.google.com/github/jerlinvillalobos/Laboratorios/blob/main/TP1/Laboratorio_5.ipynb\" target=\"_parent\"><img src=\"https://colab.research.google.com/assets/colab-badge.svg\" alt=\"Open In Colab\"/></a>"
      ]
    },
    {
      "cell_type": "markdown",
      "metadata": {
        "id": "eJIeTh2wp6WA"
      },
      "source": [
        "<img src=\"https://github.com/randall-romero/EC4301/blob/master/Laboratorios/01--Introducci%C3%B3n-a-Python/figures/escuela-de-economia.png?raw=1\" width=\"260\" height=\"60\">\n",
        "<center>\n",
        "    <b>EC4300 MICROECONOMETRÍA</b><br>\n",
        "    <b>Asistente:  Jerlin Villalobos</b>\n",
        "<br><br>\n",
        "<b>Laboratorio 5:</b>\n",
        "<br>    \n",
        "<div style=\"font-size:250%;color:white; background-color: #0064b0;\">Introducción a Python</div>\n",
        "<div style=\"font-size:175%;color:white; background-color: #0064b0;\">Parte 6: Módulos </div>    \n",
        "\n",
        "</center>\n",
        "<br><br>\n",
        "<p style=\"font-size:120%;\">Este cuaderno toma como fuente los cuadernos de Jupyter desarrollados por Phd. Randall Romero. Se toma el\n",
        "    <a href=\"https://colab.research.google.com/github/randall-romero/EC4301/blob/master/Laboratorios/01--Introducci%C3%B3n-a-Python/Python-06--M%C3%B3dulos.ipynb\"> Lab de python 06</a>\n",
        "\n",
        "\n",
        "\n",
        "<i> Última actualización del cuaderno original: 2020-Ago-18\n",
        "    <br>\n",
        "    Creado: Agosto 3, 2024\n",
        "</i>\n",
        "\n",
        "<hr>"
      ]
    },
    {
      "cell_type": "markdown",
      "metadata": {
        "id": "hGFFYMFop6WD"
      },
      "source": [
        "# Importando módulos"
      ]
    },
    {
      "cell_type": "markdown",
      "metadata": {
        "id": "DhOPO9zAp6WE"
      },
      "source": [
        "* Las definiciones de funciones en Python en uno o más archivos separados para facilitar su manteniniento y para permitir usarlos en varios programas sin copiar las definiciones en cada uno.\n",
        "\n",
        "* Cada archivo que almacena definciones de funciones se llama “módulo” y el nombre del módulo es igual al del archivo pero sin la extensión “.py”.\n",
        "\n",
        "* Las funciones almacenadas en un módulo están disponibles para un programa usando la palabra clave ```import``` seguida del nombre del módulo.\n",
        "\n",
        "* Aunque no es esencial, se acostumbra poner las instrucciones ```import``` al inicio del programa.\n",
        "\n",
        "* Las funciones importadas pueden usarse llamando su nombre como un \"punto-sufijo\" luego del nombre del módulo. Por ejemplo, una función `sqrt` de un módulo importado `numpy` puede llamarse con `numpy.sqrt()`"
      ]
    },
    {
      "cell_type": "markdown",
      "metadata": {
        "id": "flf7eZNep6WE"
      },
      "source": [
        "## Algunos paquetes (módulos) muy útiles\n",
        "\n",
        "En nuestro curso, los siguientes paquetes (= colecciones de módulos) serán muy útiles\n",
        "* `numpy` Paquete base para arreglos N-dimensional. Operaciones matemáticas, especialmente álgebra lineal\n",
        "* `matplotlib` gráficos 2D\n",
        "* `pandas` estructuras para almacenar y analizar datos\n",
        "* `scipy` librería fundamental para computación científica\n",
        "* `bccr` ofrece funciones para descargar datos del Banco Central de Costa Rica\n",
        "* `macrodemos` contiene demos de conceptos macroeconométricos, por ejemplo los modelos ARMA\n",
        "* `compecon` Para resolver modelos de economía computacional"
      ]
    },
    {
      "cell_type": "markdown",
      "metadata": {
        "id": "wwjR0_yFp6WF"
      },
      "source": [
        "### Algunos ejemplos:\n",
        "\n",
        "Para importar `numpy`"
      ]
    },
    {
      "cell_type": "code",
      "execution_count": null,
      "metadata": {
        "id": "8DSfB9Yip6WF",
        "colab": {
          "base_uri": "https://localhost:8080/"
        },
        "outputId": "8a0ec8f8-c0e9-4ee0-8a16-43061016dd43"
      },
      "outputs": [
        {
          "output_type": "execute_result",
          "data": {
            "text/plain": [
              "3.0"
            ]
          },
          "metadata": {},
          "execution_count": 1
        }
      ],
      "source": [
        "import numpy\n",
        "numpy.sqrt(9)"
      ]
    },
    {
      "cell_type": "markdown",
      "metadata": {
        "id": "OMSZeImGp6WH"
      },
      "source": [
        "Mismo ejemplo, pero dándolo un “alias” al módulo"
      ]
    },
    {
      "cell_type": "code",
      "execution_count": null,
      "metadata": {
        "id": "_A07w1Epp6WH",
        "colab": {
          "base_uri": "https://localhost:8080/"
        },
        "outputId": "f178fda6-f55b-4a5b-b19d-b8e0d673abe3"
      },
      "outputs": [
        {
          "output_type": "execute_result",
          "data": {
            "text/plain": [
              "3.0"
            ]
          },
          "metadata": {},
          "execution_count": 2
        }
      ],
      "source": [
        "import numpy as np\n",
        "np.sqrt(9)"
      ]
    },
    {
      "cell_type": "markdown",
      "metadata": {
        "id": "oGfxlKWgp6WH"
      },
      "source": [
        "Mismo ejemplo, pero importando solo la función `sqrt`"
      ]
    },
    {
      "cell_type": "code",
      "execution_count": null,
      "metadata": {
        "id": "n6bgfGuLp6WH",
        "colab": {
          "base_uri": "https://localhost:8080/"
        },
        "outputId": "6be97f60-c031-4126-dcbd-d42879adb5ab"
      },
      "outputs": [
        {
          "output_type": "execute_result",
          "data": {
            "text/plain": [
              "3.0"
            ]
          },
          "metadata": {},
          "execution_count": 3
        }
      ],
      "source": [
        "from numpy import sqrt\n",
        "sqrt(9)"
      ]
    },
    {
      "cell_type": "markdown",
      "metadata": {
        "id": "TTffyhhWp6WI"
      },
      "source": [
        "## ¿Por qué trabajar con módulos?\n",
        "\n",
        "* Una ventaja de organizar el código en módulos y paquetes es evitar desordenar el espacio de nombres.\n",
        "* Los módulos permites tener funciones del mismo nombre en espacios de nombre separados, obligándonos a ser explícitos acerca de cuál es la que usamos."
      ]
    },
    {
      "cell_type": "markdown",
      "metadata": {
        "id": "5ICEHuoHp6WI"
      },
      "source": [
        "Por ejemplo, tanto `math` como `numpy` tienen una función `cos` para computar el coseno, pero su implementación es muy distinta.\n",
        "\n",
        "### Con `numpy`:"
      ]
    },
    {
      "cell_type": "markdown",
      "metadata": {
        "id": "zX9dJQ03p6WI"
      },
      "source": [
        "$\\pi$"
      ]
    },
    {
      "cell_type": "code",
      "execution_count": null,
      "metadata": {
        "id": "R4uWzeJNp6WI"
      },
      "outputs": [],
      "source": [
        "π = np.pi"
      ]
    },
    {
      "cell_type": "code",
      "execution_count": null,
      "metadata": {
        "id": "WHFPs3Cwp6WJ",
        "colab": {
          "base_uri": "https://localhost:8080/"
        },
        "outputId": "6377cbc9-8812-4bf0-c8c4-ba2e8c74d33d"
      },
      "outputs": [
        {
          "output_type": "execute_result",
          "data": {
            "text/plain": [
              "-1.0"
            ]
          },
          "metadata": {},
          "execution_count": 12
        }
      ],
      "source": [
        "np.cos(π)"
      ]
    },
    {
      "cell_type": "code",
      "execution_count": null,
      "metadata": {
        "id": "e9u8p9_2p6WJ",
        "colab": {
          "base_uri": "https://localhost:8080/"
        },
        "outputId": "a00461c0-3b6d-468f-dcaf-4404ad41e0af"
      },
      "outputs": [
        {
          "output_type": "stream",
          "name": "stdout",
          "text": [
            "1.0\n",
            "[ 1.          0.54030231 -1.        ]\n"
          ]
        }
      ],
      "source": [
        "import numpy as np\n",
        "print(np.cos(0))\n",
        "print(np.cos([0,1, np.pi]))"
      ]
    },
    {
      "cell_type": "markdown",
      "metadata": {
        "id": "ISw3nvP9p6WJ"
      },
      "source": [
        "### Con `math`:"
      ]
    },
    {
      "cell_type": "code",
      "execution_count": null,
      "metadata": {
        "scrolled": true,
        "id": "DOyHm_aYp6WJ",
        "colab": {
          "base_uri": "https://localhost:8080/",
          "height": 193
        },
        "outputId": "4d236ab5-0460-435b-ef45-dd455ec05258"
      },
      "outputs": [
        {
          "output_type": "stream",
          "name": "stdout",
          "text": [
            "1.0\n"
          ]
        },
        {
          "output_type": "error",
          "ename": "TypeError",
          "evalue": "must be real number, not list",
          "traceback": [
            "\u001b[0;31m---------------------------------------------------------------------------\u001b[0m",
            "\u001b[0;31mTypeError\u001b[0m                                 Traceback (most recent call last)",
            "\u001b[0;32m<ipython-input-13-ea3004fe1bc4>\u001b[0m in \u001b[0;36m<cell line: 3>\u001b[0;34m()\u001b[0m\n\u001b[1;32m      1\u001b[0m \u001b[0;32mimport\u001b[0m \u001b[0mmath\u001b[0m\u001b[0;34m\u001b[0m\u001b[0;34m\u001b[0m\u001b[0m\n\u001b[1;32m      2\u001b[0m \u001b[0mprint\u001b[0m\u001b[0;34m(\u001b[0m\u001b[0mmath\u001b[0m\u001b[0;34m.\u001b[0m\u001b[0mcos\u001b[0m\u001b[0;34m(\u001b[0m\u001b[0;36m0\u001b[0m\u001b[0;34m)\u001b[0m\u001b[0;34m)\u001b[0m\u001b[0;34m\u001b[0m\u001b[0;34m\u001b[0m\u001b[0m\n\u001b[0;32m----> 3\u001b[0;31m \u001b[0mprint\u001b[0m\u001b[0;34m(\u001b[0m\u001b[0mmath\u001b[0m\u001b[0;34m.\u001b[0m\u001b[0mcos\u001b[0m\u001b[0;34m(\u001b[0m\u001b[0;34m[\u001b[0m\u001b[0;36m0\u001b[0m\u001b[0;34m,\u001b[0m\u001b[0;36m1\u001b[0m\u001b[0;34m,\u001b[0m \u001b[0mnp\u001b[0m\u001b[0;34m.\u001b[0m\u001b[0mpi\u001b[0m\u001b[0;34m]\u001b[0m\u001b[0;34m)\u001b[0m\u001b[0;34m)\u001b[0m\u001b[0;34m\u001b[0m\u001b[0;34m\u001b[0m\u001b[0m\n\u001b[0m",
            "\u001b[0;31mTypeError\u001b[0m: must be real number, not list"
          ]
        }
      ],
      "source": [
        "import math\n",
        "print(math.cos(0))\n",
        "print(math.cos([0,1, np.pi]))"
      ]
    },
    {
      "cell_type": "markdown",
      "source": [
        "El error se produce porque la función math.cos de la biblioteca math no acepta listas o arrays; solo acepta números individuales. La función math.cos está diseñada para trabajar con un solo valor numérico a la vez, no con arrays o listas"
      ],
      "metadata": {
        "id": "iJMNdJzVsJaH"
      }
    },
    {
      "cell_type": "code",
      "source": [
        "#Una forma de usar math y que funcione\n",
        "import math\n",
        "import numpy as np\n",
        "\n",
        "print(math.cos(0))\n",
        "print([math.cos(x) for x in [0, 1, np.pi]])"
      ],
      "metadata": {
        "colab": {
          "base_uri": "https://localhost:8080/"
        },
        "id": "qlOQbQvjsKS-",
        "outputId": "a1f56eef-0e9f-493d-e37e-06395c9e86e3"
      },
      "execution_count": null,
      "outputs": [
        {
          "output_type": "stream",
          "name": "stdout",
          "text": [
            "1.0\n",
            "[1.0, 0.5403023058681398, -1.0]\n"
          ]
        }
      ]
    },
    {
      "cell_type": "markdown",
      "metadata": {
        "id": "QluZxACop6WK"
      },
      "source": [
        "## Iteración más rápida"
      ]
    },
    {
      "cell_type": "code",
      "execution_count": null,
      "metadata": {
        "inputHidden": false,
        "outputHidden": false,
        "id": "k9sOhGfvp6WK"
      },
      "outputs": [],
      "source": [
        "nrep = 12000\n",
        "values = list(range(nrep))   #range(nrep) genera una secuencia de números enteros desde 0 hasta 11,999 (es decir, 12,000 números en total).\n",
        "                             #list(range(nrep)) convierte esta secuencia en una lista de números enteros."
      ]
    },
    {
      "cell_type": "code",
      "execution_count": null,
      "metadata": {
        "id": "VeSVJRAYp6WK",
        "colab": {
          "base_uri": "https://localhost:8080/"
        },
        "outputId": "90248474-761a-4c11-a26a-0adaa431ceb2"
      },
      "outputs": [
        {
          "output_type": "stream",
          "name": "stdout",
          "text": [
            "4.26 ms ± 117 µs per loop (mean ± std. dev. of 7 runs, 100 loops each)\n"
          ]
        }
      ],
      "source": [
        "%%timeit\n",
        "#mide el tiempo en ejecución del código\n",
        "option0 = np.empty_like(values) #para almacenar los datos\n",
        "\n",
        "for i, x in enumerate(values):\n",
        "    option0[i] = math.cos(x)"
      ]
    },
    {
      "cell_type": "markdown",
      "source": [
        "4.26 ms: El tiempo promedio que tarda en ejecutar una iteración del código en milisegundos.\n",
        "\n",
        "± 117 µs: La desviación estándar, que muestra cuánto varía el tiempo de ejecución entre las distintas iteraciones. Aquí, 117 microsegundos es la variación promedio en el tiempo de ejecución.\n",
        "\n",
        "per loop: Esto significa que el tiempo es para cada ejecución del bucle de código.\n",
        "\n",
        "(mean ± std. dev. of 7 runs, 100 loops each): El tiempo mostrado es el promedio de 7 ejecuciones completas de %%timeit, donde cada ejecución consistió en 100 repeticiones del código para calcular el tiempo de ejecución más preciso."
      ],
      "metadata": {
        "id": "KEBcCMcntftW"
      }
    },
    {
      "cell_type": "code",
      "execution_count": null,
      "metadata": {
        "id": "gbxzHL5Op6WK",
        "colab": {
          "base_uri": "https://localhost:8080/"
        },
        "outputId": "c8262984-b834-41b3-8326-24cb17ebb41c"
      },
      "outputs": [
        {
          "output_type": "stream",
          "name": "stdout",
          "text": [
            "2.33 ms ± 78.8 µs per loop (mean ± std. dev. of 7 runs, 100 loops each)\n"
          ]
        }
      ],
      "source": [
        "%%timeit\n",
        "option1 = list()   #crear una lista vacía\n",
        "for x in values:\n",
        "    option1.append(math.cos(x))    #Para cada valor x, calcula el coseno usando math.cos(x) y añade el resultado a la lista option1"
      ]
    },
    {
      "cell_type": "code",
      "execution_count": null,
      "metadata": {
        "id": "k_HxRPyRp6WL",
        "colab": {
          "base_uri": "https://localhost:8080/"
        },
        "outputId": "37774acd-075b-4bf8-fc90-f9a622ce04e4"
      },
      "outputs": [
        {
          "output_type": "stream",
          "name": "stdout",
          "text": [
            "2.17 ms ± 552 µs per loop (mean ± std. dev. of 7 runs, 1000 loops each)\n"
          ]
        }
      ],
      "source": [
        "%%timeit\n",
        "option2 = [math.cos(x) for x in values]"
      ]
    },
    {
      "cell_type": "code",
      "execution_count": null,
      "metadata": {
        "id": "KRebUm1Bp6WL",
        "colab": {
          "base_uri": "https://localhost:8080/"
        },
        "outputId": "0c6ca150-3812-438b-acfb-6d8bb4815623"
      },
      "outputs": [
        {
          "output_type": "stream",
          "name": "stdout",
          "text": [
            "1.08 ms ± 263 µs per loop (mean ± std. dev. of 7 runs, 1000 loops each)\n"
          ]
        }
      ],
      "source": [
        "%%timeit\n",
        "option3 = np.cos(values)\n"
      ]
    },
    {
      "cell_type": "markdown",
      "metadata": {
        "id": "hGm3c1C1p6WL"
      },
      "source": [
        "## Ejemplo de módulo: Trabajando con decimales\n",
        "\n",
        "Los programas de cómputo que ejecutan aritmética con números de punto flotante pueden producir resultados inesperados e imprecisos porque los números de punto flotante no pueden representar adecuadamente todos los número decimales."
      ]
    },
    {
      "cell_type": "code",
      "execution_count": null,
      "metadata": {
        "id": "EHyPshI5p6WL",
        "colab": {
          "base_uri": "https://localhost:8080/"
        },
        "outputId": "eb8e1e7b-ed15-4b2c-ec67-89903b7ab237"
      },
      "outputs": [
        {
          "output_type": "stream",
          "name": "stdout",
          "text": [
            "item  = 0.70\n",
            "tax   = 0.73\n",
            "total = 1.44\n"
          ]
        }
      ],
      "source": [
        "item, rate = 0.70, 1.05\n",
        "tax = item * rate\n",
        "total = item + tax\n",
        "txt, val = ['item','tax','total'], [item,tax,total]  #etiqueta y el valor\n",
        "\n",
        "for tt, vv in zip(txt, val):\n",
        "    print(f'{tt:5s} = {vv:.2f}')  # 5 indica que el campo debe tener al menos 5 caracteres de ancho y s es por si tiene menos de 5, se rellene con espacio"
      ]
    },
    {
      "cell_type": "markdown",
      "metadata": {
        "id": "jpgR8JIbp6WL"
      },
      "source": [
        "Con más decimales"
      ]
    },
    {
      "cell_type": "code",
      "execution_count": null,
      "metadata": {
        "scrolled": true,
        "id": "1eQXd4dbp6WM",
        "colab": {
          "base_uri": "https://localhost:8080/"
        },
        "outputId": "88bfa774-7e63-4ac0-eb5e-b9be224c6015"
      },
      "outputs": [
        {
          "output_type": "stream",
          "name": "stdout",
          "text": [
            "item     = 0.69999999999999995559\n",
            "tax      = 0.73499999999999998668\n",
            "total    = 1.43500000000000005329\n"
          ]
        }
      ],
      "source": [
        "for tt, vv in zip(txt, val):\n",
        "    print(f'{tt:8s} = {vv:.20f}')"
      ]
    },
    {
      "cell_type": "markdown",
      "metadata": {
        "id": "lAOJh2kKp6WM"
      },
      "source": [
        "Los errores de la aritmética de punto flotante pueden evitarse usando el módulo de Python `decimal`. Este módulo contiene un objeto `Decimal()` con el cual los números de punto flotante pueden representarse con más precisión."
      ]
    },
    {
      "cell_type": "code",
      "execution_count": null,
      "metadata": {
        "id": "THL74iWKp6WM",
        "colab": {
          "base_uri": "https://localhost:8080/"
        },
        "outputId": "8d65ecda-813d-422c-e7c3-9db5659a96a3"
      },
      "outputs": [
        {
          "output_type": "stream",
          "name": "stdout",
          "text": [
            "item  = 0.70\n",
            "tax   = 0.74\n",
            "total = 1.44\n"
          ]
        }
      ],
      "source": [
        "from decimal import Decimal\n",
        "item, rate = Decimal('0.70'), Decimal('1.05')\n",
        "tax = item * rate\n",
        "total = item + tax\n",
        "\n",
        "txt, val = ['item','tax','total'], [item,tax,total]\n",
        "\n",
        "for tt, vv in zip(txt, val):\n",
        "    print(f'{tt:5s} = {vv:.2f}')"
      ]
    },
    {
      "cell_type": "markdown",
      "metadata": {
        "id": "ywhNrU7tp6WM"
      },
      "source": [
        "With more decimals"
      ]
    },
    {
      "cell_type": "code",
      "execution_count": null,
      "metadata": {
        "id": "SOxPGlpHp6WN",
        "colab": {
          "base_uri": "https://localhost:8080/"
        },
        "outputId": "37fa9d68-f89a-4755-cbf7-a2e5a4468845"
      },
      "outputs": [
        {
          "output_type": "stream",
          "name": "stdout",
          "text": [
            "item  = 0.70000000000000000000\n",
            "tax   = 0.73500000000000000000\n",
            "total = 1.43500000000000000000\n"
          ]
        }
      ],
      "source": [
        "for tt, vv in zip(txt, val):\n",
        "    print(f'{tt:5s} = {vv:.20f}')"
      ]
    },
    {
      "cell_type": "markdown",
      "metadata": {
        "id": "4mCPfzwIp6WN"
      },
      "source": [
        "# Creando un módulo\n",
        "\n",
        "Los módulo son muy convenientes para almacenar funciones relacionadas en un solo archivo, de manera que podamos mantener el orden en nuestro proyecto y además reutilizar esas funciones en distintos lugares."
      ]
    },
    {
      "cell_type": "markdown",
      "metadata": {
        "id": "chyaH6Nkp6WN"
      },
      "source": [
        "Por ejemplo, archivo **formato.py** que está en la misma carpeta que este cuaderno de Jupyter contiene una función llamada `set_css_style`, con la cual controlamos parte del formato de este cuaderno."
      ]
    },
    {
      "cell_type": "code",
      "execution_count": null,
      "metadata": {
        "id": "Mh97XetPp6WN",
        "colab": {
          "base_uri": "https://localhost:8080/",
          "height": 316
        },
        "outputId": "81721262-f4f6-46fa-f877-111355ddd0c3"
      },
      "outputs": [
        {
          "output_type": "error",
          "ename": "ModuleNotFoundError",
          "evalue": "No module named 'formato'",
          "traceback": [
            "\u001b[0;31m---------------------------------------------------------------------------\u001b[0m",
            "\u001b[0;31mModuleNotFoundError\u001b[0m                       Traceback (most recent call last)",
            "\u001b[0;32m<ipython-input-31-21b1fa2b788c>\u001b[0m in \u001b[0;36m<cell line: 1>\u001b[0;34m()\u001b[0m\n\u001b[0;32m----> 1\u001b[0;31m \u001b[0;32mfrom\u001b[0m \u001b[0mformato\u001b[0m \u001b[0;32mimport\u001b[0m \u001b[0mset_css_style\u001b[0m\u001b[0;34m\u001b[0m\u001b[0;34m\u001b[0m\u001b[0m\n\u001b[0m",
            "\u001b[0;31mModuleNotFoundError\u001b[0m: No module named 'formato'",
            "",
            "\u001b[0;31m---------------------------------------------------------------------------\u001b[0;32m\nNOTE: If your import is failing due to a missing package, you can\nmanually install dependencies using either !pip or !apt.\n\nTo view examples of installing some common dependencies, click the\n\"Open Examples\" button below.\n\u001b[0;31m---------------------------------------------------------------------------\u001b[0m\n"
          ],
          "errorDetails": {
            "actions": [
              {
                "action": "open_url",
                "actionText": "Open Examples",
                "url": "/notebooks/snippets/importing_libraries.ipynb"
              }
            ]
          }
        }
      ],
      "source": [
        "from formato import set_css_style"
      ]
    },
    {
      "cell_type": "markdown",
      "metadata": {
        "id": "U5U7vZ6Ap6WN"
      },
      "source": [
        "Para crear un módulo, simplemente almacenamos una o más definiciones (de funciones, variables, clases) en un archivo con extensión **.py**. Si el archivo está en la misma carpeta que el archivo de Python en ejecución, lo podemos importar directamente."
      ]
    }
  ],
  "metadata": {
    "kernel_info": {
      "name": "python3"
    },
    "kernelspec": {
      "display_name": "Python 3",
      "language": "python",
      "name": "python3"
    },
    "language_info": {
      "codemirror_mode": {
        "name": "ipython",
        "version": 3
      },
      "file_extension": ".py",
      "mimetype": "text/x-python",
      "name": "python",
      "nbconvert_exporter": "python",
      "pygments_lexer": "ipython3",
      "version": "3.8.3"
    },
    "nteract": {
      "version": "0.14.3"
    },
    "toc-autonumbering": false,
    "toc-showtags": false,
    "colab": {
      "provenance": [],
      "include_colab_link": true
    }
  },
  "nbformat": 4,
  "nbformat_minor": 0
}