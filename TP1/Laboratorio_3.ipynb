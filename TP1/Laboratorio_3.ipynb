{
  "cells": [
    {
      "cell_type": "markdown",
      "metadata": {
        "id": "view-in-github",
        "colab_type": "text"
      },
      "source": [
        "<a href=\"https://colab.research.google.com/github/jerlinvillalobos/Laboratorios/blob/main/TP1/Laboratorio_3.ipynb\" target=\"_parent\"><img src=\"https://colab.research.google.com/assets/colab-badge.svg\" alt=\"Open In Colab\"/></a>"
      ]
    },
    {
      "cell_type": "markdown",
      "metadata": {
        "id": "xfjpoh5dLEnn"
      },
      "source": [
        "<img src=\"https://github.com/randall-romero/EC4301/blob/master/Laboratorios/01--Introducci%C3%B3n-a-Python/figures/escuela-de-economia.png?raw=1\" width=\"260\" height=\"60\">\n",
        "<center>\n",
        "    <b>EC4300 MICROECONOMETRÍA</b><br>\n",
        "    <b>Asistente:  Jerlin Villalobos, </b>\n",
        "<br><br>\n",
        "<b>Laboratorio 3:</b>\n",
        "<br>    \n",
        "<div style=\"font-size:250%;color:white; background-color: #0064b0;\">Introducción a Python</div>\n",
        "<div style=\"font-size:175%;color:white; background-color: #0064b0;\">Parte 4: Control de ejecución</div>    \n",
        "\n",
        "</center>\n",
        "<br><br>\n",
        "<p style=\"font-size:120%;\">Este cuaderno toma como fuente los cuadernos de Jupyter desarrollados por Phd. Randall Romero. Se toma el\n",
        "    <a href=\"https://colab.research.google.com/github/randall-romero/EC4301/blob/master/Laboratorios/01--Introducci%C3%B3n-a-Python/Python-04--Control%20de%20ejecuci%C3%B3n.ipynb\"> Lab de python 04</a>\n",
        "\n",
        "\n",
        "\n",
        "<i> Última actualización del cuaderno original: 2020-Ago-18\n",
        "    <br>\n",
        "    Creado: Agosto 1, 2024\n",
        "</i>\n",
        "\n",
        "<hr>\n"
      ]
    },
    {
      "cell_type": "markdown",
      "metadata": {
        "id": "g6MpUDJ6LEno"
      },
      "source": [
        "* Los programas usualmente se ejecutan corriendo cada instrucción en el orden en que aparecen\n",
        "* Pero en ocasiones, necesitamos ejecutar las  instrucciones de otra manera.\n",
        "* Para ello, usamos instrucciones de control de ejecución:\n",
        "- ```if, elif, else``` ejecuta algunas instrucciones una vez, pero solo si cierta condición es verdadera\n",
        "- ```while``` ejecuta algunas instrucciones varias veces, solo mientras que cierta condición sea verdadera\n",
        "- ```for``` ejecuta algunas instrucciones varias veces, iterando sobre un iterable\n",
        "- ```continue``` brinca a la siguiente iteraciónde un bucle  `while` o `for`\n",
        "- ```break``` detiene la ejecución de un bucle `while` o `for`"
      ]
    },
    {
      "cell_type": "markdown",
      "metadata": {
        "id": "mSktS8fBLEnp"
      },
      "source": [
        "# Ejecución condicional con `if`\n",
        "\n",
        "* La palabra clave ```if``` evalúa una expresión para obtener un valor `True` o `False`.\n",
        "* Esto permite que un programa proceda en diferentes direcciones de acuerdo con el resultado del test.\n",
        "* La expresión evaluada debe ser seguida de dos puntos ```:```, luego las instrucciones que se evaluan si el test es verdadero deben escribirse en líneas separadas e indentadas respecto a la línea que contiene el ```if```.\n",
        "* El tamaño de la indentación no es importante, pero debe ser el mismo en cada línea.\n",
        "* Por tanto, la sintaxis se ve así:\n",
        "```\n",
        "if test-expression:\n",
        "   statements-to-execute-when-test-expression-is-True\n",
        "   statements-to-execute-when-test-expression-is-True\n",
        "```   "
      ]
    },
    {
      "cell_type": "markdown",
      "metadata": {
        "id": "sQKwnpx_LEnp"
      },
      "source": [
        "Por ejemplo, para determinar si un número ```m``` es par o impar:\n",
        "\n",
        "Recordar que ``` % ``` se llama módulo y es para obtener el residuo de una división.\n",
        "\n"
      ]
    },
    {
      "cell_type": "code",
      "execution_count": null,
      "metadata": {
        "id": "QjM8kVchLEnp",
        "colab": {
          "base_uri": "https://localhost:8080/"
        },
        "outputId": "e4b2427c-8086-402a-cd99-acc21d252cae"
      },
      "outputs": [
        {
          "output_type": "stream",
          "name": "stdout",
          "text": [
            "m is odd\n"
          ]
        }
      ],
      "source": [
        "m = 7\n",
        "if m % 2 == 0:\n",
        "    print('m is even')\n",
        "else:\n",
        "    print('m is odd')"
      ]
    },
    {
      "cell_type": "markdown",
      "metadata": {
        "id": "ivfXfAAjLEnq"
      },
      "source": [
        "El test no necesariamente tiene que ser un boolean. El número `0`, el valor `None`, y un texto vacío `''`, lista vacía `[]`, tupla vacía `()` o conjunto vacío `{}`, todos son interpretados como  `False`."
      ]
    },
    {
      "cell_type": "code",
      "execution_count": null,
      "metadata": {
        "scrolled": true,
        "id": "NYQzYvwLLEnq",
        "colab": {
          "base_uri": "https://localhost:8080/"
        },
        "outputId": "8b8d1050-d985-4ae7-e379-b6e189f168d9"
      },
      "outputs": [
        {
          "output_type": "stream",
          "name": "stdout",
          "text": [
            "m is not divisible by 5\n"
          ]
        }
      ],
      "source": [
        "if m % 5:\n",
        "    print('m is not divisible by 5')\n",
        "else:\n",
        "    print('m is divisible by 5')"
      ]
    },
    {
      "cell_type": "markdown",
      "source": [
        "El código if m % 5: es una forma abreviada de escribir if m % 5 != 0:. Cuando no se especifica una comparación explícita (==, !=, etc.), Python evalúa si la expresión es True o False. Así, if m % 5: es equivalente a preguntar \"¿El residuo de dividir m por 5 es algo diferente de 0?"
      ],
      "metadata": {
        "id": "C200OA4dOaGA"
      }
    },
    {
      "cell_type": "code",
      "source": [
        "if m % 5 != 0 :\n",
        "    print('m is not divisible by 5')\n",
        "else:\n",
        "    print('m is divisible by 5')"
      ],
      "metadata": {
        "colab": {
          "base_uri": "https://localhost:8080/"
        },
        "id": "RCdapnN2OpzU",
        "outputId": "9c769e08-623a-468a-82ca-96ab08275a50"
      },
      "execution_count": null,
      "outputs": [
        {
          "output_type": "stream",
          "name": "stdout",
          "text": [
            "m is not divisible by 5\n"
          ]
        }
      ]
    },
    {
      "cell_type": "code",
      "execution_count": null,
      "metadata": {
        "id": "feZX-PfJLEnq",
        "colab": {
          "base_uri": "https://localhost:8080/",
          "height": 35
        },
        "outputId": "07f38ff4-aac8-447e-e4fb-2add64603848"
      },
      "outputs": [
        {
          "output_type": "execute_result",
          "data": {
            "text/plain": [
              "'a.m.'"
            ],
            "application/vnd.google.colaboratory.intrinsic+json": {
              "type": "string"
            }
          },
          "metadata": {},
          "execution_count": 12
        }
      ],
      "source": [
        "horas = 10\n",
        "\n",
        "if horas < 12:\n",
        "    ampm = 'a.m.'\n",
        "else:\n",
        "    ampm = 'p.m.'\n",
        "\n",
        "ampm\n"
      ]
    },
    {
      "cell_type": "code",
      "source": [
        "# Otra forma de hacerlo\n",
        "horas = 10\n",
        "if horas < 12:\n",
        "  print('a.m.')\n",
        "else:\n",
        "  print('p.m.')"
      ],
      "metadata": {
        "colab": {
          "base_uri": "https://localhost:8080/"
        },
        "id": "b0MHL-rZR1hT",
        "outputId": "3363c60a-f9b9-4807-b8ff-da252cea3844"
      },
      "execution_count": null,
      "outputs": [
        {
          "output_type": "stream",
          "name": "stdout",
          "text": [
            "a.m.\n"
          ]
        }
      ]
    },
    {
      "cell_type": "code",
      "execution_count": null,
      "metadata": {
        "id": "XFZQoFAjLEnq",
        "colab": {
          "base_uri": "https://localhost:8080/",
          "height": 35
        },
        "outputId": "e03a6bc9-2078-49ea-e0ea-c4bacf4bb41c"
      },
      "outputs": [
        {
          "output_type": "execute_result",
          "data": {
            "text/plain": [
              "'a.m.'"
            ],
            "application/vnd.google.colaboratory.intrinsic+json": {
              "type": "string"
            }
          },
          "metadata": {},
          "execution_count": 13
        }
      ],
      "source": [
        "ampm1 = 'a.m.' if horas < 12 else 'p.m.'\n",
        "ampm1"
      ]
    },
    {
      "cell_type": "markdown",
      "metadata": {
        "id": "FBbi2kThLEnq"
      },
      "source": [
        "## Examinando condiciones\n",
        "Algunas veces necesitamos asignar un valor dependiendo de una condición, como así\n",
        "```\n",
        "if testExpression:\n",
        "    x = ifTrueThis\n",
        "else:\n",
        "    x = ifFalseThis\n",
        "```\n",
        "Esto es equivalente a :\n",
        "```\n",
        "x = ifTrueThis if testExpression else ifFalseThis\n",
        "```\n",
        "Por ejemplo"
      ]
    },
    {
      "cell_type": "code",
      "execution_count": null,
      "metadata": {
        "id": "C6n0C68jLEnr",
        "colab": {
          "base_uri": "https://localhost:8080/",
          "height": 35
        },
        "outputId": "30f92166-ed49-4185-892f-5e2eb0f20ec8"
      },
      "outputs": [
        {
          "output_type": "execute_result",
          "data": {
            "text/plain": [
              "'n is odd'"
            ],
            "application/vnd.google.colaboratory.intrinsic+json": {
              "type": "string"
            }
          },
          "metadata": {},
          "execution_count": 14
        }
      ],
      "source": [
        "n = 17\n",
        "z = \"n is odd\" if n % 2 else \"n is even\"\n",
        "\n",
        "z"
      ]
    },
    {
      "cell_type": "markdown",
      "metadata": {
        "id": "78b9odKsLEnr"
      },
      "source": [
        "# Iterando `while` true i\n",
        "\n",
        "* Un bucle es una pieza de código que automáticamente se repite.\n",
        "* Una ejecución completa de todas las instrucciones dentro de un bucle se llama una “iteración”.\n",
        "* El tamaño del buche se controla con un test condicional que se ejecuta dentro del bucle.\n",
        "* Mientras que la expresión evaluada sea  ```True``` el bucle continuará –-- hasta que la expresión sea ```False```, punto en el cual el bucle termina.\n",
        "* En programas de Python, la palabra clave ```while``` crea un bucle. Es seguida por la expresion a evaluar y dos puntos ```:```.\n",
        "* Las instrucciones que se deben evaluar cuando el test pasa (sea ```True```) deben seguir abajo en líneas separadas, y cada línea debe estar indentada con el mismo espacio respecto a la línea que tiene el ```while```.\n",
        "* Este bloque de instrucciones debe incluir una instrucción que en algún momento cambie el resultado del test a ```False``` --- de lo contrario el bucle será infinito.\n",
        "* Por tanto, la sintaxis se ve así:\n",
        "\n",
        "```\n",
        "while test-expression :\n",
        "    statements-to-execute-when-test-expression-is-True\n",
        "    statements-to-execute-when-test-expression-is-True\n",
        "```    "
      ]
    },
    {
      "cell_type": "markdown",
      "metadata": {
        "id": "d103dyztLEnr"
      },
      "source": [
        "Por ejemplo, para obtener la serie de Fibonacci hasta 100"
      ]
    },
    {
      "cell_type": "code",
      "execution_count": null,
      "metadata": {
        "id": "eEd08m9ULEnr",
        "colab": {
          "base_uri": "https://localhost:8080/"
        },
        "outputId": "25a8b73a-b72e-46df-9f51-cf45d6d7aad3"
      },
      "outputs": [
        {
          "output_type": "stream",
          "name": "stdout",
          "text": [
            "1, 1, 2, 3, 5, 8, 13, 21, 34, 55, 89, "
          ]
        }
      ],
      "source": [
        "#La secuencia de Fibonacci es una serie de números donde cada número es la suma de los dos números anteriores, comenzando con 0 y 1\n",
        "a, b = 0, 1\n",
        "\n",
        "while b < 100:\n",
        "    print(b, end=', ')\n",
        "    a, b = b, a + b\n",
        "\n",
        "#print(b, end=', '): En cada iteración del bucle, se imprime el valor de b, seguido de una coma y un espacio.\n",
        "# El argumento end=', ' especifica que, en lugar de terminar la línea, la salida continuará en la misma línea con una coma\n",
        "#y un espacio después de cada número"
      ]
    },
    {
      "cell_type": "markdown",
      "metadata": {
        "id": "3B1tyW9FLEns"
      },
      "source": [
        "Un enfoque distinto, pero que incluye el primer elemento que se pasa de 100"
      ]
    },
    {
      "cell_type": "code",
      "execution_count": null,
      "metadata": {
        "id": "eU3ME0CdLEns",
        "colab": {
          "base_uri": "https://localhost:8080/"
        },
        "outputId": "721f6484-823c-4302-8513-188ba4ddcae4"
      },
      "outputs": [
        {
          "output_type": "execute_result",
          "data": {
            "text/plain": [
              "[1, 1, 2, 3, 5, 8, 13, 21, 34, 55, 89]"
            ]
          },
          "metadata": {},
          "execution_count": 1
        }
      ],
      "source": [
        "fib = [1, 1]   #lista que contiene los primeros dos números de Fibonacci\n",
        "\n",
        "while fib[-1]<100:     #recordar la posición -1\n",
        "    fib.append(fib[-2] + fib[-1])    #suma la suma de los dos últimos elementos de la lista\n",
        "else:\n",
        "    fib.pop()    #elimina el último elemento de la lista\n",
        "\n",
        "\n",
        "fib"
      ]
    },
    {
      "cell_type": "markdown",
      "metadata": {
        "id": "6OetaTCuLEns"
      },
      "source": [
        "## La función ```range```\n",
        "Algunas veces necesitamos iterar sobre los enteros. Podemos generarlos con la función ```range```.\n",
        "\n",
        "Devuelve los números del 0 al 5, para verlos, lo usamos en una lista."
      ]
    },
    {
      "cell_type": "code",
      "execution_count": null,
      "metadata": {
        "id": "7KXwecRtLEns",
        "colab": {
          "base_uri": "https://localhost:8080/"
        },
        "outputId": "20bd109e-9a94-41e8-b6e4-3f19376e66c2"
      },
      "outputs": [
        {
          "output_type": "execute_result",
          "data": {
            "text/plain": [
              "range(0, 6)"
            ]
          },
          "metadata": {},
          "execution_count": 2
        }
      ],
      "source": [
        "range(6)"
      ]
    },
    {
      "cell_type": "markdown",
      "metadata": {
        "id": "E9X7gv6RLEns"
      },
      "source": [
        "Para ahorrar memoria, ```range``` retorna sus elementos uno a la vez, solo cuando se necesita, para evitar usar demasiada memoria. En los ejemplos que siguen convertimos objetos ```range``` en listas para poder imprimir sus elementos."
      ]
    },
    {
      "cell_type": "markdown",
      "metadata": {
        "id": "n0RjbSB1LEns"
      },
      "source": [
        "`range(n)` retorna enteros de ```0``` a ```n-1```"
      ]
    },
    {
      "cell_type": "code",
      "execution_count": null,
      "metadata": {
        "scrolled": true,
        "id": "FZiukBHtLEns",
        "colab": {
          "base_uri": "https://localhost:8080/"
        },
        "outputId": "b5f02443-c108-4731-9d55-630ea65ffd94"
      },
      "outputs": [
        {
          "output_type": "execute_result",
          "data": {
            "text/plain": [
              "[0, 1, 2, 3, 4, 5]"
            ]
          },
          "metadata": {},
          "execution_count": 3
        }
      ],
      "source": [
        "list(range(6))"
      ]
    },
    {
      "cell_type": "markdown",
      "metadata": {
        "id": "E_UX9gZFLEnt"
      },
      "source": [
        "`range(m, n)` retorna enteros de ```m``` a ```n-1```"
      ]
    },
    {
      "cell_type": "code",
      "execution_count": null,
      "metadata": {
        "id": "To_cwbveLEnt",
        "colab": {
          "base_uri": "https://localhost:8080/"
        },
        "outputId": "104d4d10-8953-4351-d7ad-5e836313d38f"
      },
      "outputs": [
        {
          "output_type": "execute_result",
          "data": {
            "text/plain": [
              "[2, 3, 4, 5, 6, 7]"
            ]
          },
          "metadata": {},
          "execution_count": 4
        }
      ],
      "source": [
        "list(range(2,8))"
      ]
    },
    {
      "cell_type": "markdown",
      "metadata": {
        "id": "84zAEQLELEnt"
      },
      "source": [
        "`range(m, n, s)` retorna enteros de ```m``` a ```n-1```, de ```s``` en ```s```"
      ]
    },
    {
      "cell_type": "code",
      "execution_count": null,
      "metadata": {
        "id": "BjleQ1tlLEnt",
        "colab": {
          "base_uri": "https://localhost:8080/"
        },
        "outputId": "2d299008-97e5-4afa-a18c-45bd039a652b"
      },
      "outputs": [
        {
          "output_type": "execute_result",
          "data": {
            "text/plain": [
              "[]"
            ]
          },
          "metadata": {},
          "execution_count": 4
        }
      ],
      "source": [
        "list(range(2,9,3))"
      ]
    },
    {
      "cell_type": "markdown",
      "metadata": {
        "id": "qqPml3nOLEnt"
      },
      "source": [
        "También podemos crear un ```range``` con el orden invertido:"
      ]
    },
    {
      "cell_type": "code",
      "execution_count": null,
      "metadata": {
        "scrolled": true,
        "id": "VP-eJuYJLEnt",
        "outputId": "c7b834ef-6eda-4c1a-cd16-8069c3c0c532",
        "colab": {
          "base_uri": "https://localhost:8080/"
        }
      },
      "outputs": [
        {
          "output_type": "execute_result",
          "data": {
            "text/plain": [
              "[4, 3, 2, 1]"
            ]
          },
          "metadata": {},
          "execution_count": 3
        }
      ],
      "source": [
        "list(range(4, 0,-1))"
      ]
    },
    {
      "cell_type": "markdown",
      "metadata": {
        "id": "UcvsF2m4LEnt"
      },
      "source": [
        "### Comparando la cantidad de memoria necesaria"
      ]
    },
    {
      "cell_type": "code",
      "execution_count": null,
      "metadata": {
        "id": "vfN_O9FuLEnt",
        "colab": {
          "base_uri": "https://localhost:8080/"
        },
        "outputId": "d13c30e8-23c3-40e1-afe7-95a15740c571"
      },
      "outputs": [
        {
          "output_type": "execute_result",
          "data": {
            "text/plain": [
              "8000056"
            ]
          },
          "metadata": {},
          "execution_count": 5
        }
      ],
      "source": [
        "from sys import getsizeof\n",
        "\n",
        "getsizeof(list(range(1_000_000)))"
      ]
    },
    {
      "cell_type": "code",
      "execution_count": null,
      "metadata": {
        "id": "DkcvCga4LEnt",
        "colab": {
          "base_uri": "https://localhost:8080/"
        },
        "outputId": "9c254fd5-9d97-4c69-dc01-35071d83fc24"
      },
      "outputs": [
        {
          "output_type": "execute_result",
          "data": {
            "text/plain": [
              "48"
            ]
          },
          "metadata": {},
          "execution_count": 6
        }
      ],
      "source": [
        "getsizeof(range(1_000_000))"
      ]
    },
    {
      "cell_type": "markdown",
      "metadata": {
        "id": "QBkCETq8LEnu"
      },
      "source": [
        "# Iterando sobre los elementos de un iterable: `for`\n",
        "\n",
        "En Python la palabra clave ```for``` itera sobre todos los elementos de cualquier iterable que aparezca luego de la palabra clave ```in```.\n",
        "\n",
        "La sintaxis se ve así:\n",
        "\n",
        "```\n",
        "for item in iterable :\n",
        "    statements-to-execute-on-each-iteration\n",
        "    statements-to-execute-on-each-iteration\n",
        "```    \n",
        "\n",
        "Ejemplos de iterables:\n",
        "* rangos\n",
        "* listas, tuplas, conjutos, diccionarios\n",
        "* textos\n",
        "* archivos de texto\n",
        "* arreglos de números"
      ]
    },
    {
      "cell_type": "markdown",
      "metadata": {
        "id": "CQMjDCjILEnu"
      },
      "source": [
        "### Iterando sobre textos"
      ]
    },
    {
      "cell_type": "code",
      "execution_count": null,
      "metadata": {
        "id": "vS5U4ObCLEnu"
      },
      "outputs": [],
      "source": [
        "for letter in 'abcd':\n",
        "    print(letter.upper())"
      ]
    },
    {
      "cell_type": "markdown",
      "metadata": {
        "id": "aTDM6yq2LEnu"
      },
      "source": [
        "### Iterando sobre enteros"
      ]
    },
    {
      "cell_type": "code",
      "execution_count": null,
      "metadata": {
        "id": "vhaS7d2PLEnu",
        "colab": {
          "base_uri": "https://localhost:8080/"
        },
        "outputId": "b589965d-b14d-4c29-9ed5-70a5bc1c9a76"
      },
      "outputs": [
        {
          "output_type": "stream",
          "name": "stdout",
          "text": [
            "0\n",
            "1\n",
            "4\n",
            "9\n",
            "16\n",
            "25\n"
          ]
        }
      ],
      "source": [
        "for k in range(6):\n",
        "    print(k**2)"
      ]
    },
    {
      "cell_type": "markdown",
      "metadata": {
        "id": "B-KWAzd8LEnu"
      },
      "source": [
        "### Iterando líneas de un archivo de texto"
      ]
    },
    {
      "cell_type": "code",
      "execution_count": null,
      "metadata": {
        "id": "s2qIavBfLEnu",
        "colab": {
          "base_uri": "https://localhost:8080/"
        },
        "outputId": "e56b578b-03ec-418c-be51-d3728ef3235b"
      },
      "outputs": [
        {
          "output_type": "stream",
          "name": "stdout",
          "text": [
            "['Lunes', 'Martes', 'Miercoles', 'Jueves', 'Viernes', 'Sabado', 'Domingo']\n",
            "['Lunes\\n', 'Martes\\n', 'Miercoles\\n', 'Jueves\\n', 'Viernes\\n', 'Sabado\\n', 'Domingo\\n']\n"
          ]
        }
      ],
      "source": [
        "\n",
        "archivo = open(\"/content/dias_sem.csv\", \"r\")\n",
        "texto=archivo.readlines()   #crear una lista dond cada elemento es una celda del archivo de excel, pero Python no entiende las tabulaciones y por eso lo pone como \\n\n",
        "lista_dias=[]\n",
        "archivo.close()\n",
        "for e in texto:\n",
        "    dia_arreglado=e.replace(\"\\n\",\"\")   #creo la variable y quito ese \\n\n",
        "    lista_dias.append(dia_arreglado)\n",
        "print(lista_dias)\n",
        "print(texto)"
      ]
    },
    {
      "cell_type": "markdown",
      "metadata": {
        "id": "-H_xgiElLEnu"
      },
      "source": [
        "### Iterando los elemetos de un diccionario"
      ]
    },
    {
      "cell_type": "code",
      "execution_count": null,
      "metadata": {
        "id": "wrpLtsulLEnu"
      },
      "outputs": [],
      "source": [
        "king = {'name': 'John Snow',\n",
        "        'age': 24,\n",
        "        'home': 'Castle Black',\n",
        "        'lover': 'Ygritte',\n",
        "        'knows': None}\n",
        "\n",
        "for llave, valor in king.items():\n",
        "    print(f\"king[{llave}] = {valor}\")"
      ]
    },
    {
      "cell_type": "markdown",
      "metadata": {
        "id": "-FumnHpPLEnz"
      },
      "source": [
        "## enumerate"
      ]
    },
    {
      "cell_type": "markdown",
      "metadata": {
        "id": "ikrdM6EZLEnz"
      },
      "source": [
        "Para llevar cuenta del número de iteración usamos ```enumerate```"
      ]
    },
    {
      "cell_type": "code",
      "execution_count": null,
      "metadata": {
        "id": "P6X0IDmDLEnz",
        "colab": {
          "base_uri": "https://localhost:8080/"
        },
        "outputId": "bc295d5b-8005-4033-f51b-70d916ca82f3"
      },
      "outputs": [
        {
          "output_type": "stream",
          "name": "stdout",
          "text": [
            "0 = a\n",
            "1 = b\n",
            "2 = c\n",
            "3 = d\n"
          ]
        }
      ],
      "source": [
        "for i, letter in enumerate('abcd'):\n",
        "    print(f'{i} = {letter}')"
      ]
    },
    {
      "cell_type": "code",
      "execution_count": null,
      "metadata": {
        "scrolled": true,
        "id": "H52P90enLEn0",
        "colab": {
          "base_uri": "https://localhost:8080/"
        },
        "outputId": "e1e7f2fd-85fa-4d02-c277-8edc4787ab7c"
      },
      "outputs": [
        {
          "output_type": "stream",
          "name": "stdout",
          "text": [
            "Estoy en la iteración 0 = a\n",
            "Estoy en la iteración 1 = b\n",
            "Estoy en la iteración 2 = c\n",
            "Estoy en la iteración 3 = d\n",
            "Estoy en la iteración 4 = e\n"
          ]
        }
      ],
      "source": [
        "for i, letter in enumerate('abcd'):\n",
        "    print(f'Estoy en la iteración {i:d} = {letter}')"
      ]
    },
    {
      "cell_type": "markdown",
      "metadata": {
        "id": "2ytVCz_lLEn0"
      },
      "source": [
        "## zip"
      ]
    },
    {
      "cell_type": "markdown",
      "metadata": {
        "id": "ItZbpHuVLEn0"
      },
      "source": [
        "Para iterar dos iterables en paralelo, usamos `zip`"
      ]
    },
    {
      "cell_type": "code",
      "execution_count": null,
      "metadata": {
        "scrolled": true,
        "id": "5AKgTRNsLEn0"
      },
      "outputs": [],
      "source": [
        "quantities = [3, 2, 4]\n",
        "fruits = ('apple','banana','coconut')\n",
        "\n",
        "for n, fruit in zip(quantities,fruits):\n",
        "    print(f'{n} {fruit}s')"
      ]
    },
    {
      "cell_type": "markdown",
      "metadata": {
        "id": "LySliwvhLEn0"
      },
      "source": [
        "## *List comprehensions*\n",
        "\n",
        "* *List comprehension* es una manera elegante de definir una lista basado en otra lista (un iterable).\n",
        "* Generalmente son más compactas y rápidas que los bucles tradicionales.\n",
        "* No obstante, debemos evitar *list comprenhension* demasiado largas para que el código sea claro.\n",
        "\n"
      ]
    },
    {
      "cell_type": "markdown",
      "metadata": {
        "id": "FCinO6N8LEn0"
      },
      "source": [
        "### Caso más sencillo"
      ]
    },
    {
      "cell_type": "markdown",
      "metadata": {
        "id": "OQwak4z0LEn0"
      },
      "source": [
        "A veces necesitamos hacer una lista de elementos a partir de otro iterable, como con este código\n",
        "\n",
        "```\n",
        "lst = list()\n",
        "for item in iterable:\n",
        "    lst.append(expression)\n",
        "```\n",
        "\n",
        "Esto puede hacer más sucintamente con\n",
        "\n",
        "```\n",
        "lst = [expression for item in iterable]\n",
        "```"
      ]
    },
    {
      "cell_type": "markdown",
      "metadata": {
        "id": "uEco-JoRLEn1"
      },
      "source": [
        "Por ejemplo, para obtener una lista de los cuadrados de los números del 1 al 14:"
      ]
    },
    {
      "cell_type": "code",
      "execution_count": null,
      "metadata": {
        "id": "5ARebzQHLEn1"
      },
      "outputs": [],
      "source": [
        "miscuadrados = []\n",
        "\n",
        "for k in range(1,15):\n",
        "    miscuadrados.append(k**2)\n",
        "\n",
        "miscuadrados"
      ]
    },
    {
      "cell_type": "code",
      "execution_count": null,
      "metadata": {
        "id": "fS276vUqLEn1"
      },
      "outputs": [],
      "source": [
        "miscuadrados2 = [k**2 for k in range(1,15)]\n",
        "miscuadrados2"
      ]
    },
    {
      "cell_type": "code",
      "execution_count": null,
      "metadata": {
        "id": "8Ut2ZPGhLEn1"
      },
      "outputs": [],
      "source": [
        "[k**2 for k in range(1,15) if k%2==1]\n",
        "  if k"
      ]
    },
    {
      "cell_type": "markdown",
      "metadata": {
        "id": "zThyVF0WLEn1"
      },
      "source": [
        "Para contar las letras en una lista de palabras"
      ]
    },
    {
      "cell_type": "code",
      "execution_count": null,
      "metadata": {
        "id": "EEg8AiFOLEn2"
      },
      "outputs": [],
      "source": [
        "food = ['apple','banana','carrot','grape','kiwi']\n",
        "\n",
        "[len(item) for item in food]"
      ]
    },
    {
      "cell_type": "markdown",
      "metadata": {
        "id": "TzzxCCzGLEn2"
      },
      "source": [
        "### Caso con un condicional"
      ]
    },
    {
      "cell_type": "markdown",
      "metadata": {
        "id": "y5RYzdAzLEn2"
      },
      "source": [
        "A veces necesitamos además que se satisfaga alguna condición en la iteración, como con este código\n",
        "```\n",
        "lst = list()\n",
        "for item in iterable:\n",
        "    if conditional:\n",
        "        lst.append(expression)\n",
        "```\n",
        "\n",
        "Esto puede hacer más sucintamente con\n",
        "\n",
        "```\n",
        "lst = [expression for item in iterable if conditional]\n",
        "```"
      ]
    },
    {
      "cell_type": "markdown",
      "metadata": {
        "id": "mSaG-GgbLEn2"
      },
      "source": [
        "Por ejemplo, para generar los cuadrados de los números pares menores que 12"
      ]
    },
    {
      "cell_type": "code",
      "execution_count": null,
      "metadata": {
        "scrolled": true,
        "id": "NZl59XFcLEn2"
      },
      "outputs": [],
      "source": [
        "lista1 = list()\n",
        "\n",
        "for k in range(1,12):\n",
        "    if k % 2 == 0:\n",
        "        lista1.append(k**2)\n",
        "\n",
        "lista1"
      ]
    },
    {
      "cell_type": "code",
      "execution_count": null,
      "metadata": {
        "scrolled": true,
        "id": "wTRSYlw3LEn2"
      },
      "outputs": [],
      "source": [
        "lista2 = [k**2 for k in range(1, 12) if not k%2]\n",
        "lista2"
      ]
    }
  ],
  "metadata": {
    "kernel_info": {
      "name": "python3"
    },
    "kernelspec": {
      "display_name": "Python 3",
      "language": "python",
      "name": "python3"
    },
    "language_info": {
      "codemirror_mode": {
        "name": "ipython",
        "version": 3
      },
      "file_extension": ".py",
      "mimetype": "text/x-python",
      "name": "python",
      "nbconvert_exporter": "python",
      "pygments_lexer": "ipython3",
      "version": "3.8.3"
    },
    "nteract": {
      "version": "0.14.3"
    },
    "toc-autonumbering": false,
    "toc-showtags": false,
    "colab": {
      "provenance": [],
      "include_colab_link": true
    }
  },
  "nbformat": 4,
  "nbformat_minor": 0
}