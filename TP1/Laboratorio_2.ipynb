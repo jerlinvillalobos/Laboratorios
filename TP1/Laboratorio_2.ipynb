{
  "cells": [
    {
      "cell_type": "markdown",
      "metadata": {
        "id": "view-in-github",
        "colab_type": "text"
      },
      "source": [
        "<a href=\"https://colab.research.google.com/github/jerlinvillalobos/Laboratorios/blob/main/TP1/Laboratorio_2.ipynb\" target=\"_parent\"><img src=\"https://colab.research.google.com/assets/colab-badge.svg\" alt=\"Open In Colab\"/></a>"
      ]
    },
    {
      "cell_type": "markdown",
      "metadata": {
        "id": "PBckyE0SfPFI"
      },
      "source": [
        "<img src=\"https://github.com/randall-romero/EC4301/blob/master/Laboratorios/01--Introducci%C3%B3n-a-Python/figures/escuela-de-economia.png?raw=1\" width=\"260\" height=\"60\">\n",
        "<center>\n",
        "    <b>EC4300 MICROECONOMETRÍA</b><br>\n",
        "    <b>Asistente: Jerlin Villalobos </b>\n",
        "<br><br>\n",
        "<b>Laboratorio 2:</b>\n",
        "<br>    \n",
        "<div style=\"font-size:250%;color:white; background-color: #0064b0;\">Introducción a Python</div>\n",
        "<div style=\"font-size:175%;color:white; background-color: #0064b0;\">Parte 2: Colecciones</div>    \n",
        "\n",
        "</center>\n",
        "<br><br>\n",
        "<p style=\"font-size:120%;\">Este cuaderno toma como fuente los cuadernos de Jupyter desarrollados por Phd. Randall Romero. Se toma el\n",
        "    <a href=\"https://colab.research.google.com/github/randall-romero/EC4301/blob/master/Laboratorios/01--Introducci%C3%B3n-a-Python/Python-03--Colecciones.ipynb\"> Lab de python 03</a>\n",
        "\n",
        "\n",
        "\n",
        "</p>\n",
        "\n",
        "<i> Última actualización del cuaderno original: 2020-Ago-18\n",
        "    <br>\n",
        "    Creado: Julio 31, 2024\n",
        "</i>\n",
        "\n",
        "<hr>\n"
      ]
    },
    {
      "cell_type": "markdown",
      "metadata": {
        "id": "QMIO5LEqfPFK"
      },
      "source": [
        "## Tipos de colecciones\n",
        "Los tipos de colecciones más utilizados son\n",
        "* `list` una lista ordenada y mutable de valores\n",
        "* `tuple` una lista ordenada e inmutable de valores\n",
        "* `set` una lista mutable pero no ordenada de valores\n",
        "* `dict` un diccionario no ordenado"
      ]
    },
    {
      "cell_type": "markdown",
      "metadata": {
        "id": "onMzdz85fPFL"
      },
      "source": [
        "# Listas"
      ]
    },
    {
      "cell_type": "markdown",
      "metadata": {
        "id": "sGTuPsZtfPFL"
      },
      "source": [
        "## Haciendo listas\n",
        "Para hacer una lista, enumeramos sus elemento entre un par de ```[ ]```\n",
        "* Recordar que las listas van ordenadas, cada elemento tiene su posición, y los elementos de la lista empiezan en cero."
      ]
    },
    {
      "cell_type": "code",
      "execution_count": 2,
      "metadata": {
        "colab": {
          "base_uri": "https://localhost:8080/"
        },
        "id": "CyRpFSYnfPFL",
        "outputId": "be1a8995-b453-47b2-dc74-9f76d1c0ade6"
      },
      "outputs": [
        {
          "output_type": "execute_result",
          "data": {
            "text/plain": [
              "['Spring', 'Summer', 'Autumn', 'Winter']"
            ]
          },
          "metadata": {},
          "execution_count": 2
        }
      ],
      "source": [
        "seasons = ['Spring', 'Summer','Autumn','Winter']\n",
        "seasons"
      ]
    },
    {
      "cell_type": "markdown",
      "metadata": {
        "id": "3enVkfycfPFM"
      },
      "source": [
        "![seasons](https://github.com/randall-romero/EC4301/blob/master/Laboratorios/01--Introducci%C3%B3n-a-Python/figures/list-diagram.png?raw=1)"
      ]
    },
    {
      "cell_type": "markdown",
      "metadata": {
        "id": "xcSWnGpZfPFM"
      },
      "source": [
        "Las listas pueden tener elementos heterogéneos, puede tener letras, números."
      ]
    },
    {
      "cell_type": "code",
      "execution_count": 3,
      "metadata": {
        "id": "ZkE_fqjZfPFN"
      },
      "outputs": [],
      "source": [
        "mylist = [4, 3.0, 'abc', 5, 8, -3, 0 , 2]"
      ]
    },
    {
      "cell_type": "code",
      "execution_count": 4,
      "metadata": {
        "colab": {
          "base_uri": "https://localhost:8080/"
        },
        "id": "9yPz6Kq6fPFN",
        "outputId": "c741b982-69ee-4281-fe17-281f3ea49bf7"
      },
      "outputs": [
        {
          "output_type": "execute_result",
          "data": {
            "text/plain": [
              "[4, 3.0, 'abc', 5, 8, -3, 0, 2]"
            ]
          },
          "metadata": {},
          "execution_count": 4
        }
      ],
      "source": [
        "mylist"
      ]
    },
    {
      "cell_type": "markdown",
      "metadata": {
        "id": "EADwlRW7fPFN"
      },
      "source": [
        "### Para obtener los datos, colocamos la posición del elemento que queremos ver"
      ]
    },
    {
      "cell_type": "code",
      "execution_count": 5,
      "metadata": {
        "colab": {
          "base_uri": "https://localhost:8080/",
          "height": 35
        },
        "id": "8p-LPAJHfPFN",
        "outputId": "c88e2ad0-00e8-475f-94e8-6ceb56ca8925"
      },
      "outputs": [
        {
          "output_type": "execute_result",
          "data": {
            "text/plain": [
              "'Autumn'"
            ],
            "application/vnd.google.colaboratory.intrinsic+json": {
              "type": "string"
            }
          },
          "metadata": {},
          "execution_count": 5
        }
      ],
      "source": [
        "seasons[2]"
      ]
    },
    {
      "cell_type": "code",
      "execution_count": 6,
      "metadata": {
        "colab": {
          "base_uri": "https://localhost:8080/",
          "height": 35
        },
        "id": "TyTtSfrDfPFO",
        "outputId": "8af242eb-e223-49ed-e037-5b0396e525fe",
        "scrolled": true
      },
      "outputs": [
        {
          "output_type": "execute_result",
          "data": {
            "text/plain": [
              "'Summer'"
            ],
            "application/vnd.google.colaboratory.intrinsic+json": {
              "type": "string"
            }
          },
          "metadata": {},
          "execution_count": 6
        }
      ],
      "source": [
        "seasons[-3]"
      ]
    },
    {
      "cell_type": "markdown",
      "metadata": {
        "id": "bVBRqh6NfPFO"
      },
      "source": [
        "### Para modificar los datos, solo indicamos la posición que queremos que cambie de nombre."
      ]
    },
    {
      "cell_type": "code",
      "execution_count": 7,
      "metadata": {
        "colab": {
          "base_uri": "https://localhost:8080/"
        },
        "id": "oPF9DzqcfPFO",
        "outputId": "c97ee42e-11cf-4f4a-b8ee-f5f41e1db7b1"
      },
      "outputs": [
        {
          "output_type": "execute_result",
          "data": {
            "text/plain": [
              "['Spring', 'Summer', 'Fall', 'Winter']"
            ]
          },
          "metadata": {},
          "execution_count": 7
        }
      ],
      "source": [
        "seasons[2] = 'Fall'\n",
        "seasons"
      ]
    },
    {
      "cell_type": "markdown",
      "metadata": {
        "id": "vnEmjRl6fPFP"
      },
      "source": [
        "## *Slicing*"
      ]
    },
    {
      "cell_type": "markdown",
      "metadata": {
        "id": "b5u9BlrhfPFP"
      },
      "source": [
        "Para obtener una franja de datos, los números dentro de los corchetes especifican el rango de valores que se quieren extraer de la lista original.\n",
        "\n",
        "\n",
        "\n",
        "```\n",
        "# mylist[inicio:fin-1]\n",
        "```\n",
        "\n",
        "\n",
        "Esto significa que se seleccionan los elementos desde el índice inicio hasta el índice fin-1. Es importante notar que el índice fin no se incluye en la sublista."
      ]
    },
    {
      "cell_type": "code",
      "execution_count": 8,
      "metadata": {
        "colab": {
          "base_uri": "https://localhost:8080/"
        },
        "id": "8d9xEAO4fPFP",
        "outputId": "2a927a9e-0368-468f-ee81-e64c2a951af5"
      },
      "outputs": [
        {
          "output_type": "execute_result",
          "data": {
            "text/plain": [
              "[4, 3.0, 'abc', 5, 8, -3, 0, 2]"
            ]
          },
          "metadata": {},
          "execution_count": 8
        }
      ],
      "source": [
        "mylist"
      ]
    },
    {
      "cell_type": "code",
      "execution_count": 9,
      "metadata": {
        "colab": {
          "base_uri": "https://localhost:8080/"
        },
        "id": "AzGDDA9VfPFP",
        "outputId": "39001b4e-d30c-4eb2-b08c-2894da1fd95e"
      },
      "outputs": [
        {
          "output_type": "execute_result",
          "data": {
            "text/plain": [
              "['abc', 5]"
            ]
          },
          "metadata": {},
          "execution_count": 9
        }
      ],
      "source": [
        "mylist[2:4]"
      ]
    },
    {
      "cell_type": "markdown",
      "metadata": {
        "id": "bEpaW5TslxbY"
      },
      "source": [
        "En el siguiente sería, desde la posición inicial hasta la posición 3, sin incluir esa posición 3"
      ]
    },
    {
      "cell_type": "code",
      "execution_count": 10,
      "metadata": {
        "colab": {
          "base_uri": "https://localhost:8080/"
        },
        "id": "JB5TQe1hfPFP",
        "outputId": "fd69006a-25bd-42c3-fd2d-f7acbc114955"
      },
      "outputs": [
        {
          "output_type": "execute_result",
          "data": {
            "text/plain": [
              "[4, 3.0, 'abc']"
            ]
          },
          "metadata": {},
          "execution_count": 10
        }
      ],
      "source": [
        "mylist[:3]"
      ]
    },
    {
      "cell_type": "markdown",
      "metadata": {
        "id": "k1cZLqSWmMe8"
      },
      "source": [
        "En el siguiente sería, desde la posición 5 hasta el final, y si incluye el final"
      ]
    },
    {
      "cell_type": "code",
      "execution_count": 11,
      "metadata": {
        "colab": {
          "base_uri": "https://localhost:8080/"
        },
        "id": "K_iewFDxfPFP",
        "outputId": "f1dccaf7-c308-42f5-e016-6400f1985b41"
      },
      "outputs": [
        {
          "output_type": "execute_result",
          "data": {
            "text/plain": [
              "[-3, 0, 2]"
            ]
          },
          "metadata": {},
          "execution_count": 11
        }
      ],
      "source": [
        "mylist[5:]"
      ]
    },
    {
      "cell_type": "markdown",
      "metadata": {
        "id": "caZh4wucm1Pb"
      },
      "source": [
        "Desde la posición -2 hasta el final"
      ]
    },
    {
      "cell_type": "code",
      "execution_count": 12,
      "metadata": {
        "colab": {
          "base_uri": "https://localhost:8080/"
        },
        "id": "LWqVdrmCfPFQ",
        "outputId": "af15496b-0740-4f7e-c5be-85be81683876"
      },
      "outputs": [
        {
          "output_type": "execute_result",
          "data": {
            "text/plain": [
              "[0, 2]"
            ]
          },
          "metadata": {},
          "execution_count": 12
        }
      ],
      "source": [
        "mylist[-2:]"
      ]
    },
    {
      "cell_type": "code",
      "execution_count": 13,
      "metadata": {
        "colab": {
          "base_uri": "https://localhost:8080/"
        },
        "id": "3_IswvqwfPFQ",
        "outputId": "77f8de05-16fb-4e82-f3af-cd8558bfb0a9"
      },
      "outputs": [
        {
          "output_type": "execute_result",
          "data": {
            "text/plain": [
              "[5]"
            ]
          },
          "metadata": {},
          "execution_count": 13
        }
      ],
      "source": [
        "mylist[3:4] # a pesar de que es un solo elemento, retorna una lista"
      ]
    },
    {
      "cell_type": "code",
      "execution_count": 14,
      "metadata": {
        "colab": {
          "base_uri": "https://localhost:8080/"
        },
        "id": "TKf3C0rsfPFQ",
        "outputId": "d57bcd3a-6f26-42e6-cdad-bbb91cce4ea6"
      },
      "outputs": [
        {
          "output_type": "execute_result",
          "data": {
            "text/plain": [
              "5"
            ]
          },
          "metadata": {},
          "execution_count": 14
        }
      ],
      "source": [
        "mylist[3]"
      ]
    },
    {
      "cell_type": "code",
      "execution_count": 15,
      "metadata": {
        "colab": {
          "base_uri": "https://localhost:8080/"
        },
        "id": "-zePg4OkfPFQ",
        "outputId": "3fdb3870-2dc6-48ea-88f8-b1b959f55a42"
      },
      "outputs": [
        {
          "output_type": "execute_result",
          "data": {
            "text/plain": [
              "[]"
            ]
          },
          "metadata": {},
          "execution_count": 15
        }
      ],
      "source": [
        "mylist[3:3]"
      ]
    },
    {
      "cell_type": "markdown",
      "metadata": {
        "id": "XyVZAyjMnLE0"
      },
      "source": [
        "Ahora, queremos tomar los valores de dos en dos, desde el inicio."
      ]
    },
    {
      "cell_type": "code",
      "execution_count": 16,
      "metadata": {
        "colab": {
          "base_uri": "https://localhost:8080/"
        },
        "id": "HHrWkzpnfPFQ",
        "outputId": "a9afd7be-9f2e-438d-9274-9d9fd9c955cf"
      },
      "outputs": [
        {
          "output_type": "execute_result",
          "data": {
            "text/plain": [
              "[4, 'abc', 8, 0]"
            ]
          },
          "metadata": {},
          "execution_count": 16
        }
      ],
      "source": [
        "mylist[::2]"
      ]
    },
    {
      "cell_type": "markdown",
      "metadata": {
        "id": "18zN-JwbnW27"
      },
      "source": [
        "Acá, le indico desde cual posición iniciar y desde esa posición que tome los valores de dos en dos."
      ]
    },
    {
      "cell_type": "code",
      "execution_count": 17,
      "metadata": {
        "colab": {
          "base_uri": "https://localhost:8080/"
        },
        "id": "BOLy5ANjfPFQ",
        "outputId": "dd74e419-c207-43b4-8995-cc952f6b0c0b"
      },
      "outputs": [
        {
          "output_type": "execute_result",
          "data": {
            "text/plain": [
              "[3.0, 5, -3, 2]"
            ]
          },
          "metadata": {},
          "execution_count": 17
        }
      ],
      "source": [
        "mylist[1::2]"
      ]
    },
    {
      "cell_type": "markdown",
      "metadata": {
        "id": "UY3naEEKfPFQ"
      },
      "source": [
        "## Copiando una lista\n",
        "\n",
        "### `nueva_lista = vieja_lista` hace una variable nueva que apunta a la misma lista que la lista anterior:"
      ]
    },
    {
      "cell_type": "code",
      "execution_count": 18,
      "metadata": {
        "id": "e_FNLTbufPFR"
      },
      "outputs": [],
      "source": [
        "otralista = mylist"
      ]
    },
    {
      "cell_type": "code",
      "execution_count": 19,
      "metadata": {
        "colab": {
          "base_uri": "https://localhost:8080/"
        },
        "id": "EaAeZE3dfPFR",
        "outputId": "de7a225f-151f-49f9-d6e8-5dd3e8b32b4a"
      },
      "outputs": [
        {
          "output_type": "execute_result",
          "data": {
            "text/plain": [
              "[4, 3.0, 'abc', 5, 8, -3, 0, 2]"
            ]
          },
          "metadata": {},
          "execution_count": 19
        }
      ],
      "source": [
        "otralista"
      ]
    },
    {
      "cell_type": "code",
      "execution_count": 20,
      "metadata": {
        "id": "b3zPaXMSfPFR"
      },
      "outputs": [],
      "source": [
        "otralista[0] = 99999"
      ]
    },
    {
      "cell_type": "code",
      "execution_count": 21,
      "metadata": {
        "colab": {
          "base_uri": "https://localhost:8080/"
        },
        "id": "kpvpDPwKfPFR",
        "outputId": "f2f56229-3db5-46de-8ec3-a9de8802d38c"
      },
      "outputs": [
        {
          "output_type": "execute_result",
          "data": {
            "text/plain": [
              "[99999, 3.0, 'abc', 5, 8, -3, 0, 2]"
            ]
          },
          "metadata": {},
          "execution_count": 21
        }
      ],
      "source": [
        "otralista"
      ]
    },
    {
      "cell_type": "code",
      "execution_count": 22,
      "metadata": {
        "colab": {
          "base_uri": "https://localhost:8080/"
        },
        "id": "l9dwKtb0fPFR",
        "outputId": "db6c5981-3593-4a8c-aa8a-f5daf324fe91",
        "scrolled": true
      },
      "outputs": [
        {
          "output_type": "execute_result",
          "data": {
            "text/plain": [
              "[99999, 3.0, 'abc', 5, 8, -3, 0, 2]"
            ]
          },
          "metadata": {},
          "execution_count": 22
        }
      ],
      "source": [
        "mylist"
      ]
    },
    {
      "cell_type": "markdown",
      "metadata": {
        "id": "_4xhxwYAfPFR"
      },
      "source": [
        "Vemos que es la misma lista al comparar sus `id`:\n",
        "En Python, `id`() es una función integrada que devuelve el identificador único de un objeto. Este identificador es un número entero que es único y constante para el objeto durante su ciclo de vida. El identificador puede utilizarse para comparar si dos variables apuntan al mismo objeto en la memoria."
      ]
    },
    {
      "cell_type": "code",
      "execution_count": 23,
      "metadata": {
        "colab": {
          "base_uri": "https://localhost:8080/"
        },
        "id": "XKvDenAJfPFS",
        "outputId": "80c4d119-a3b5-45e9-880c-1ce9dcf23c97"
      },
      "outputs": [
        {
          "output_type": "stream",
          "name": "stdout",
          "text": [
            "133137623907456\n",
            "133137623907456\n"
          ]
        }
      ],
      "source": [
        "print(id(otralista), id(mylist),sep='\\n')"
      ]
    },
    {
      "cell_type": "code",
      "execution_count": 24,
      "metadata": {
        "colab": {
          "base_uri": "https://localhost:8080/"
        },
        "id": "m2lW0d7qfPFS",
        "outputId": "84c91a03-d433-409e-b241-ca3f3e5a87d8"
      },
      "outputs": [
        {
          "output_type": "execute_result",
          "data": {
            "text/plain": [
              "True"
            ]
          },
          "metadata": {},
          "execution_count": 24
        }
      ],
      "source": [
        "otralista is mylist"
      ]
    },
    {
      "cell_type": "markdown",
      "metadata": {
        "id": "v1ugmuChfPFS"
      },
      "source": [
        "### `nueva_lista = vieja_lista.copy()` hace una copia *independiente* de la original:\n",
        "\n",
        "Anteriormente, vimos que al cambiar un elemento de \"otralista\" también cambiaba los elementos de \"mylist\", si queremos trabajar de forma independiente cada lista, lo correcto es usar .copy()"
      ]
    },
    {
      "cell_type": "code",
      "execution_count": 25,
      "metadata": {
        "colab": {
          "base_uri": "https://localhost:8080/"
        },
        "id": "hZHa7I3KfPFS",
        "outputId": "55ba5f7b-708c-485f-8813-e9e5fe997b17"
      },
      "outputs": [
        {
          "output_type": "stream",
          "name": "stdout",
          "text": [
            "copialista =  [99999, 3.0, 'abc', 5, 8, -3, 0, 'copia independiente de la original']\n",
            "mylist     =  [99999, 3.0, 'abc', 5, 8, -3, 0, 2]\n",
            "otralista  =  [99999, 3.0, 'abc', 5, 8, -3, 0, 2]\n",
            "copialista es 133137273009152\n",
            "mylist     es 133137623907456\n",
            "otralista  es 133137623907456\n"
          ]
        }
      ],
      "source": [
        "copialista = mylist.copy()\n",
        "copialista[-1] = 'copia independiente de la original'\n",
        "print('copialista = ', copialista) #acá le estamos pidiendo\n",
        "print('mylist     = ', mylist)\n",
        "print('otralista  = ', mylist)\n",
        "print(f'copialista es {id(copialista)}',  f'mylist     es {id(mylist)}', f'otralista  es {id(otralista)}',  sep='\\n')"
      ]
    },
    {
      "cell_type": "markdown",
      "metadata": {
        "id": "h0VBtJHHfPFS"
      },
      "source": [
        "## Manipulando listas"
      ]
    },
    {
      "cell_type": "code",
      "execution_count": null,
      "metadata": {
        "id": "An64-9omfPFS"
      },
      "outputs": [],
      "source": [
        "fruit = ['apple','orange','grape','kiwi']"
      ]
    },
    {
      "cell_type": "markdown",
      "metadata": {
        "id": "z_xZ812HfPFY"
      },
      "source": [
        "##### ```list.append(x)``` Agrega el elemento ```x``` al final de la lista"
      ]
    },
    {
      "cell_type": "code",
      "execution_count": null,
      "metadata": {
        "colab": {
          "base_uri": "https://localhost:8080/"
        },
        "id": "T0PM-NuUfPFY",
        "outputId": "d0b8d4e0-cd49-40c1-fcdc-ce93704370c2"
      },
      "outputs": [
        {
          "output_type": "execute_result",
          "data": {
            "text/plain": [
              "['apple', 'orange', 'grape', 'kiwi', 'apple']"
            ]
          },
          "metadata": {},
          "execution_count": 114
        }
      ],
      "source": [
        "fruit.append('apple')\n",
        "fruit"
      ]
    },
    {
      "cell_type": "markdown",
      "metadata": {
        "id": "FFu_Sk9bfPFY"
      },
      "source": [
        "##### ```list.extend(L)``` Agrega todos los elementos de la lista ```L``` al final de la lista"
      ]
    },
    {
      "cell_type": "code",
      "execution_count": null,
      "metadata": {
        "colab": {
          "base_uri": "https://localhost:8080/"
        },
        "id": "ZFFavyiZfPFY",
        "outputId": "2c47873c-b074-45b1-9828-a8149eb140bb"
      },
      "outputs": [
        {
          "output_type": "execute_result",
          "data": {
            "text/plain": [
              "['apple', 'orange', 'grape', 'kiwi', 'apple', 'mango', 'banana', 'kiwi']"
            ]
          },
          "metadata": {},
          "execution_count": 115
        }
      ],
      "source": [
        "fruit.extend(['mango','banana','kiwi'])\n",
        "fruit"
      ]
    },
    {
      "cell_type": "markdown",
      "metadata": {
        "id": "ldSzbqfYfPFZ"
      },
      "source": [
        "##### ```list.insert(i,x)``` Inserta el elemento ```x``` en la posición de índice ```i```"
      ]
    },
    {
      "cell_type": "code",
      "execution_count": null,
      "metadata": {
        "colab": {
          "base_uri": "https://localhost:8080/"
        },
        "id": "VmtiezrRfPFZ",
        "outputId": "9e445d9e-be74-4901-8247-318f1a586fa9"
      },
      "outputs": [
        {
          "output_type": "execute_result",
          "data": {
            "text/plain": [
              "['apple',\n",
              " 'orange',\n",
              " 'guava',\n",
              " 'grape',\n",
              " 'kiwi',\n",
              " 'apple',\n",
              " 'mango',\n",
              " 'banana',\n",
              " 'kiwi']"
            ]
          },
          "metadata": {},
          "execution_count": 116
        }
      ],
      "source": [
        "fruit.insert(2,'guava')\n",
        "fruit"
      ]
    },
    {
      "cell_type": "markdown",
      "metadata": {
        "id": "lsfTogVLfPFZ"
      },
      "source": [
        "##### ```len(list)``` cuenta el número de elementos de la lista"
      ]
    },
    {
      "cell_type": "code",
      "execution_count": null,
      "metadata": {
        "colab": {
          "base_uri": "https://localhost:8080/"
        },
        "id": "F2Vq7MRbfPFZ",
        "outputId": "28ab27b1-837f-4d0f-fc1f-1afc48087af2"
      },
      "outputs": [
        {
          "output_type": "execute_result",
          "data": {
            "text/plain": [
              "9"
            ]
          },
          "metadata": {},
          "execution_count": 117
        }
      ],
      "source": [
        "len(fruit)"
      ]
    },
    {
      "cell_type": "markdown",
      "metadata": {
        "id": "rKpGika8fPFZ"
      },
      "source": [
        "##### ```list.remove(x)``` Elimina el primer elemento ```x``` de la lista, acá eliminamos por el nombre."
      ]
    },
    {
      "cell_type": "code",
      "execution_count": null,
      "metadata": {
        "colab": {
          "base_uri": "https://localhost:8080/"
        },
        "id": "baK7YKEcfPFZ",
        "outputId": "35427060-ba88-42d0-bea9-793049a05dd2"
      },
      "outputs": [
        {
          "output_type": "execute_result",
          "data": {
            "text/plain": [
              "['apple', 'orange', 'guava', 'grape', 'apple', 'mango', 'banana', 'kiwi']"
            ]
          },
          "metadata": {},
          "execution_count": 118
        }
      ],
      "source": [
        "fruit.remove('kiwi')\n",
        "fruit"
      ]
    },
    {
      "cell_type": "markdown",
      "metadata": {
        "id": "yAPZUL83fPFZ"
      },
      "source": [
        "##### ```list.pop(i)``` Eliminina el elemento en la posición ```i``` y lo retorna, es decir, podemos usar el elemento eliminado como una variable"
      ]
    },
    {
      "cell_type": "code",
      "execution_count": null,
      "metadata": {
        "id": "lZM7Pv1nfPFa",
        "colab": {
          "base_uri": "https://localhost:8080/",
          "height": 35
        },
        "outputId": "b86c5ae2-c1e7-474a-f4dd-97b24a3a5c9d"
      },
      "outputs": [
        {
          "output_type": "execute_result",
          "data": {
            "text/plain": [
              "'kiwi'"
            ],
            "application/vnd.google.colaboratory.intrinsic+json": {
              "type": "string"
            }
          },
          "metadata": {},
          "execution_count": 119
        }
      ],
      "source": [
        "fruit.pop()"
      ]
    },
    {
      "cell_type": "code",
      "source": [
        "kiwi=fruit.pop()\n",
        "kiwi # me da el valor de la variable eliminada"
      ],
      "metadata": {
        "colab": {
          "base_uri": "https://localhost:8080/",
          "height": 35
        },
        "id": "1ptnibSyvM4r",
        "outputId": "45c6c8d2-3d80-48c0-e168-9d2c00775c4b"
      },
      "execution_count": null,
      "outputs": [
        {
          "output_type": "execute_result",
          "data": {
            "text/plain": [
              "'banana'"
            ],
            "application/vnd.google.colaboratory.intrinsic+json": {
              "type": "string"
            }
          },
          "metadata": {},
          "execution_count": 111
        }
      ]
    },
    {
      "cell_type": "code",
      "execution_count": null,
      "metadata": {
        "id": "2JysXlHDfPFa",
        "colab": {
          "base_uri": "https://localhost:8080/"
        },
        "outputId": "11da77cd-12bb-4836-a61a-8429967e94d8"
      },
      "outputs": [
        {
          "output_type": "execute_result",
          "data": {
            "text/plain": [
              "['apple', 'orange', 'guava', 'grape', 'apple', 'mango', 'banana']"
            ]
          },
          "metadata": {},
          "execution_count": 120
        }
      ],
      "source": [
        "fruit"
      ]
    },
    {
      "cell_type": "markdown",
      "metadata": {
        "id": "V7iZBQV8fPFa"
      },
      "source": [
        "##### ```list.index(x)``` Retorna el índice del primer elemento ```x``` de la lista"
      ]
    },
    {
      "cell_type": "code",
      "execution_count": null,
      "metadata": {
        "id": "rN5M57MpfPFa",
        "scrolled": true,
        "colab": {
          "base_uri": "https://localhost:8080/"
        },
        "outputId": "9012cc69-0e40-4371-82e1-f3287731d7e1"
      },
      "outputs": [
        {
          "output_type": "execute_result",
          "data": {
            "text/plain": [
              "3"
            ]
          },
          "metadata": {},
          "execution_count": 121
        }
      ],
      "source": [
        "fruit.index('grape')"
      ]
    },
    {
      "cell_type": "markdown",
      "metadata": {
        "id": "ZGcakD0cfPFa"
      },
      "source": [
        "##### ```list.count(x)``` Retorna el número de veces que aparece ```x``` en la lista"
      ]
    },
    {
      "cell_type": "code",
      "execution_count": null,
      "metadata": {
        "id": "xct61nRmfPFa",
        "colab": {
          "base_uri": "https://localhost:8080/"
        },
        "outputId": "b4ca5ea5-8e1f-45e7-8b8a-93e56aa18e5b"
      },
      "outputs": [
        {
          "output_type": "execute_result",
          "data": {
            "text/plain": [
              "2"
            ]
          },
          "metadata": {},
          "execution_count": 122
        }
      ],
      "source": [
        "fruit.count('apple')"
      ]
    },
    {
      "cell_type": "markdown",
      "metadata": {
        "id": "LQn_Gc3YfPFb"
      },
      "source": [
        "##### ```list.sort()``` Ordena todos los elementos de la lista, in situ, lo ordena por letra"
      ]
    },
    {
      "cell_type": "code",
      "execution_count": null,
      "metadata": {
        "id": "quzayN2KfPFb",
        "colab": {
          "base_uri": "https://localhost:8080/"
        },
        "outputId": "e9489330-285e-4fb2-fe66-4e39bb495cf6"
      },
      "outputs": [
        {
          "output_type": "execute_result",
          "data": {
            "text/plain": [
              "['apple', 'apple', 'banana', 'grape', 'guava', 'mango', 'orange']"
            ]
          },
          "metadata": {},
          "execution_count": 130
        }
      ],
      "source": [
        "fruit.sort()\n",
        "fruit"
      ]
    },
    {
      "cell_type": "markdown",
      "metadata": {
        "id": "8NY7PzaafPFb"
      },
      "source": [
        "##### ```list.reverse()``` Revierte el orden de todos los elementos de la lista, in situ"
      ]
    },
    {
      "cell_type": "code",
      "execution_count": null,
      "metadata": {
        "id": "PSpDSoGgfPFb",
        "colab": {
          "base_uri": "https://localhost:8080/"
        },
        "outputId": "dab20c2e-c1d9-4dfd-d63a-22012bfe5b6e"
      },
      "outputs": [
        {
          "output_type": "execute_result",
          "data": {
            "text/plain": [
              "['orange', 'mango', 'guava', 'grape', 'banana', 'apple', 'apple']"
            ]
          },
          "metadata": {},
          "execution_count": 124
        }
      ],
      "source": [
        "fruit.reverse() #este sirve solo para darle vuelta a la lista\n",
        "fruit"
      ]
    },
    {
      "cell_type": "code",
      "execution_count": null,
      "metadata": {
        "id": "KVMI55PDfPFb",
        "colab": {
          "base_uri": "https://localhost:8080/"
        },
        "outputId": "e0e50339-062f-47b8-ceab-46db91f8b42d"
      },
      "outputs": [
        {
          "output_type": "execute_result",
          "data": {
            "text/plain": [
              "['orange', 'mango', 'guava', 'grape', 'banana', 'apple', 'apple']"
            ]
          },
          "metadata": {},
          "execution_count": 131
        }
      ],
      "source": [
        "fruit.sort(reverse=True)  #lo ordena de forma \"descendente\"\n",
        "fruit"
      ]
    },
    {
      "cell_type": "markdown",
      "metadata": {
        "id": "cwGGqyzefPFb"
      },
      "source": [
        "# Tuplas\n",
        "\n",
        "Una tupla es similar a una lista, pero una vez que se define **sus elementos no pueden cambiarse**. Se define enumerando sus elementos entre un par de  ```( )```\n",
        "\n",
        "No se pueden modificar del todo."
      ]
    },
    {
      "cell_type": "code",
      "execution_count": null,
      "metadata": {
        "id": "1DDzX59xfPFb"
      },
      "outputs": [],
      "source": [
        "seasons = ('Spring', 'Summer','Autumn','Winter')"
      ]
    },
    {
      "cell_type": "markdown",
      "metadata": {
        "id": "fdoLQTPhfPFc"
      },
      "source": [
        "![seasons](https://github.com/randall-romero/EC4301/blob/master/Laboratorios/01--Introducci%C3%B3n-a-Python/figures/tuple-diagram.png?raw=1)"
      ]
    },
    {
      "cell_type": "markdown",
      "metadata": {
        "id": "fNKYqFX7fPFc"
      },
      "source": [
        "Para obtener datos:"
      ]
    },
    {
      "cell_type": "code",
      "execution_count": null,
      "metadata": {
        "id": "k1rZQxR2fPFc",
        "colab": {
          "base_uri": "https://localhost:8080/",
          "height": 35
        },
        "outputId": "506f87a1-22da-47aa-cbe2-0ab7218f94aa"
      },
      "outputs": [
        {
          "output_type": "execute_result",
          "data": {
            "text/plain": [
              "'Autumn'"
            ],
            "application/vnd.google.colaboratory.intrinsic+json": {
              "type": "string"
            }
          },
          "metadata": {},
          "execution_count": 133
        }
      ],
      "source": [
        "seasons[2]"
      ]
    },
    {
      "cell_type": "code",
      "execution_count": null,
      "metadata": {
        "id": "7YOfYeg1fPFc",
        "colab": {
          "base_uri": "https://localhost:8080/",
          "height": 35
        },
        "outputId": "c54db33d-d9d3-4e94-fd4d-1489c457c6a4"
      },
      "outputs": [
        {
          "output_type": "execute_result",
          "data": {
            "text/plain": [
              "'Summer'"
            ],
            "application/vnd.google.colaboratory.intrinsic+json": {
              "type": "string"
            }
          },
          "metadata": {},
          "execution_count": 134
        }
      ],
      "source": [
        "seasons[-3]"
      ]
    },
    {
      "cell_type": "markdown",
      "metadata": {
        "id": "keLvsgZofPFc"
      },
      "source": [
        "Sin embargo, los datos no se pueden modificar"
      ]
    },
    {
      "cell_type": "code",
      "execution_count": null,
      "metadata": {
        "id": "2u231S8NfPFc",
        "scrolled": true,
        "colab": {
          "base_uri": "https://localhost:8080/",
          "height": 141
        },
        "outputId": "eccb5fd2-5872-47ad-b7c5-1a74f07cca76"
      },
      "outputs": [
        {
          "output_type": "error",
          "ename": "NameError",
          "evalue": "name 'seasons' is not defined",
          "traceback": [
            "\u001b[0;31m---------------------------------------------------------------------------\u001b[0m",
            "\u001b[0;31mNameError\u001b[0m                                 Traceback (most recent call last)",
            "\u001b[0;32m<ipython-input-1-3a773b804719>\u001b[0m in \u001b[0;36m<cell line: 1>\u001b[0;34m()\u001b[0m\n\u001b[0;32m----> 1\u001b[0;31m \u001b[0mseasons\u001b[0m\u001b[0;34m[\u001b[0m\u001b[0;36m2\u001b[0m\u001b[0;34m]\u001b[0m \u001b[0;34m=\u001b[0m \u001b[0;34m'Fall'\u001b[0m\u001b[0;34m\u001b[0m\u001b[0;34m\u001b[0m\u001b[0m\n\u001b[0m",
            "\u001b[0;31mNameError\u001b[0m: name 'seasons' is not defined"
          ]
        }
      ],
      "source": [
        "seasons[2] = 'Fall'"
      ]
    },
    {
      "cell_type": "markdown",
      "metadata": {
        "id": "QorK0_GDfPFc"
      },
      "source": [
        "Las tuplas también entienden de franjas, es decir, podemos seguir en los renglones de abajo"
      ]
    },
    {
      "cell_type": "code",
      "execution_count": null,
      "metadata": {
        "id": "jpjTYV6XfPFc"
      },
      "outputs": [],
      "source": [
        "M = ('Jan', 'Feb', 'Mar', 'Apr', 'May', 'Jun', \\\n",
        "'Jul','Aug','Sep','Oct','Nov','Dec')\n"
      ]
    },
    {
      "cell_type": "code",
      "execution_count": null,
      "metadata": {
        "id": "BXYa0KJtfPFd",
        "colab": {
          "base_uri": "https://localhost:8080/"
        },
        "outputId": "890453eb-5fa8-4afb-8535-f9807a903b8d"
      },
      "outputs": [
        {
          "output_type": "execute_result",
          "data": {
            "text/plain": [
              "('Apr', 'May', 'Jun')"
            ]
          },
          "metadata": {},
          "execution_count": 141
        }
      ],
      "source": [
        "# To split the months into quarters:\n",
        "Q1, Q2, Q3, Q4 = M[:3], M[3:6], M[6:9], M[9:]\n",
        "Q2"
      ]
    },
    {
      "cell_type": "code",
      "execution_count": null,
      "metadata": {
        "id": "ijvgjbNjfPFd",
        "colab": {
          "base_uri": "https://localhost:8080/"
        },
        "outputId": "db72db83-8526-43b8-fffb-a4810e1f8c4c"
      },
      "outputs": [
        {
          "output_type": "execute_result",
          "data": {
            "text/plain": [
              "('Jan',\n",
              " 'Feb',\n",
              " 'Mar',\n",
              " 'Apr',\n",
              " 'May',\n",
              " 'Jun',\n",
              " 'Jul',\n",
              " 'Aug',\n",
              " 'Sep',\n",
              " 'Oct',\n",
              " 'Nov',\n",
              " 'Dec')"
            ]
          },
          "metadata": {},
          "execution_count": 142
        }
      ],
      "source": [
        "M"
      ]
    },
    {
      "cell_type": "markdown",
      "metadata": {
        "id": "n0ucnFuefPFd"
      },
      "source": [
        "Para hacer una tupla de un único elemento:"
      ]
    },
    {
      "cell_type": "code",
      "source": [
        "mal=(9)\n",
        "type(mal)"
      ],
      "metadata": {
        "colab": {
          "base_uri": "https://localhost:8080/"
        },
        "id": "akmDMSD4zLtn",
        "outputId": "d9812ad9-6567-487f-b0e7-d63211d9a47d"
      },
      "execution_count": null,
      "outputs": [
        {
          "output_type": "execute_result",
          "data": {
            "text/plain": [
              "int"
            ]
          },
          "metadata": {},
          "execution_count": 146
        }
      ]
    },
    {
      "cell_type": "code",
      "execution_count": null,
      "metadata": {
        "id": "V0OmtCxRfPFd"
      },
      "outputs": [],
      "source": [
        "solo = (55, )"
      ]
    },
    {
      "cell_type": "code",
      "execution_count": null,
      "metadata": {
        "id": "LNlntoBGfPFd",
        "colab": {
          "base_uri": "https://localhost:8080/"
        },
        "outputId": "ad512dc6-04f7-4f3a-b7b1-698e4f578a60"
      },
      "outputs": [
        {
          "output_type": "execute_result",
          "data": {
            "text/plain": [
              "tuple"
            ]
          },
          "metadata": {},
          "execution_count": 148
        }
      ],
      "source": [
        "type(solo)"
      ]
    },
    {
      "cell_type": "markdown",
      "metadata": {
        "id": "JUGuuHcwfPFe"
      },
      "source": [
        "# Conjuntos\n",
        "Para hacer un conjunto, enumeramos sus elementos entre ```{ }```. Alternativamento, transformamos una lista en un conjunto usando la función ```set```."
      ]
    },
    {
      "cell_type": "code",
      "execution_count": null,
      "metadata": {
        "id": "8dXX7oaofPFe"
      },
      "outputs": [],
      "source": [
        "M2 = {2, 4, 6, 8, 10, 12, 14} #podemos definirlo así o llamando la función set\n",
        "M3 = set([3, 6, 9, 12, 15])"
      ]
    },
    {
      "cell_type": "markdown",
      "metadata": {
        "id": "dgpC6WXTfPFe"
      },
      "source": [
        "##### ```set.add(x)``` Agrega un elemento ```x``` al conjunto"
      ]
    },
    {
      "cell_type": "code",
      "execution_count": null,
      "metadata": {
        "id": "qEMl3Q5DfPFe",
        "colab": {
          "base_uri": "https://localhost:8080/"
        },
        "outputId": "f276a39a-6944-4852-b520-7d1865e4ebaa"
      },
      "outputs": [
        {
          "output_type": "execute_result",
          "data": {
            "text/plain": [
              "{2, 4, 6, 8, 10, 12, 14, 16}"
            ]
          },
          "metadata": {},
          "execution_count": 155
        }
      ],
      "source": [
        "M2.add(16)\n",
        "M2"
      ]
    },
    {
      "cell_type": "markdown",
      "metadata": {
        "id": "DpnTVKNzfPFe"
      },
      "source": [
        "##### ```set.update([x,y,z])``` Agrega varios elementos al conjunto"
      ]
    },
    {
      "cell_type": "code",
      "execution_count": null,
      "metadata": {
        "id": "5u-OZMqhfPFe",
        "colab": {
          "base_uri": "https://localhost:8080/"
        },
        "outputId": "ba95349f-6f69-432c-f46d-e7396757ac15"
      },
      "outputs": [
        {
          "output_type": "execute_result",
          "data": {
            "text/plain": [
              "{3, 6, 9, 12, 15, 18, 21}"
            ]
          },
          "metadata": {},
          "execution_count": 156
        }
      ],
      "source": [
        "M3.update([18, 21])\n",
        "M3"
      ]
    },
    {
      "cell_type": "markdown",
      "metadata": {
        "id": "wmOqU0LrfPFe"
      },
      "source": [
        "##### ```set.copy()``` Retorna una copia del conjunto"
      ]
    },
    {
      "cell_type": "code",
      "execution_count": null,
      "metadata": {
        "id": "_bRbzufKfPFf",
        "colab": {
          "base_uri": "https://localhost:8080/"
        },
        "outputId": "838d7edb-fed1-4f49-cd60-f3841bb27513"
      },
      "outputs": [
        {
          "output_type": "execute_result",
          "data": {
            "text/plain": [
              "{2, 4, 6, 8, 10, 12, 14, 16}"
            ]
          },
          "metadata": {},
          "execution_count": 157
        }
      ],
      "source": [
        "M2c = M2.copy()\n",
        "M2c"
      ]
    },
    {
      "cell_type": "markdown",
      "metadata": {
        "id": "Xpcjw-vefPFf"
      },
      "source": [
        "##### ```set.pop()``` Elimina al azar un elemento del conjunto"
      ]
    },
    {
      "cell_type": "code",
      "execution_count": null,
      "metadata": {
        "id": "U5G2KSH_fPFf",
        "colab": {
          "base_uri": "https://localhost:8080/"
        },
        "outputId": "c35fac57-a5da-4fd7-d846-cbb4e05bba06"
      },
      "outputs": [
        {
          "output_type": "execute_result",
          "data": {
            "text/plain": [
              "6"
            ]
          },
          "metadata": {},
          "execution_count": 162
        }
      ],
      "source": [
        "M2c.pop()"
      ]
    },
    {
      "cell_type": "code",
      "execution_count": null,
      "metadata": {
        "id": "AzRnyGiIfPFf"
      },
      "outputs": [],
      "source": [
        "M2c"
      ]
    },
    {
      "cell_type": "markdown",
      "metadata": {
        "id": "N08DJwkafPFf"
      },
      "source": [
        "##### ```set.discard(x)``` Elimina el elemEnto ```x``` del conjunto (si es miembro)"
      ]
    },
    {
      "cell_type": "code",
      "execution_count": null,
      "metadata": {
        "id": "qONi3WfKfPFf",
        "scrolled": true,
        "colab": {
          "base_uri": "https://localhost:8080/"
        },
        "outputId": "4f34a191-91d3-4fce-94c5-bdbe473e9f23"
      },
      "outputs": [
        {
          "output_type": "execute_result",
          "data": {
            "text/plain": [
              "{8, 12, 14, 16}"
            ]
          },
          "metadata": {},
          "execution_count": 163
        }
      ],
      "source": [
        "M2c.discard(10)\n",
        "M2c"
      ]
    },
    {
      "cell_type": "markdown",
      "metadata": {
        "id": "kaRrKZoDfPFg"
      },
      "source": [
        "##### ```set1.union(set2)``` Retorna elementos que aparecen en cualquiera de los conjuntos, une los conjuntos"
      ]
    },
    {
      "cell_type": "code",
      "execution_count": null,
      "metadata": {
        "id": "7QF5P1BmfPFg",
        "colab": {
          "base_uri": "https://localhost:8080/"
        },
        "outputId": "443d2890-3304-49da-e072-4ab1d5d9e117"
      },
      "outputs": [
        {
          "output_type": "execute_result",
          "data": {
            "text/plain": [
              "{2, 3, 4, 6, 8, 9, 10, 12, 14, 15, 16, 18, 21}"
            ]
          },
          "metadata": {},
          "execution_count": 164
        }
      ],
      "source": [
        "M2.union(M3)"
      ]
    },
    {
      "cell_type": "markdown",
      "metadata": {
        "id": "hRGnEt9bfPFg"
      },
      "source": [
        "##### ```set1.intersection(set2)``` Retorna elementos que aparecen en los dos conjuntos"
      ]
    },
    {
      "cell_type": "code",
      "execution_count": null,
      "metadata": {
        "id": "pe6vnlcvfPFg",
        "colab": {
          "base_uri": "https://localhost:8080/"
        },
        "outputId": "21da31b7-1089-468a-b92b-0b468afd8281"
      },
      "outputs": [
        {
          "output_type": "execute_result",
          "data": {
            "text/plain": [
              "{6, 12}"
            ]
          },
          "metadata": {},
          "execution_count": 165
        }
      ],
      "source": [
        "M3.intersection(M2)"
      ]
    },
    {
      "cell_type": "markdown",
      "metadata": {
        "id": "Sp5gm23XfPFg"
      },
      "source": [
        "##### ```set1.difference(set2)``` Retorna elementos del conjunto ```set1``` que no estén en ```set2```"
      ]
    },
    {
      "cell_type": "code",
      "execution_count": null,
      "metadata": {
        "id": "DqsMPL_4fPFg",
        "colab": {
          "base_uri": "https://localhost:8080/"
        },
        "outputId": "dcff776e-3836-407b-db68-03b01873b9bc"
      },
      "outputs": [
        {
          "output_type": "execute_result",
          "data": {
            "text/plain": [
              "{2, 4, 8, 10, 14, 16}"
            ]
          },
          "metadata": {},
          "execution_count": 166
        }
      ],
      "source": [
        "M2.difference(M3)"
      ]
    },
    {
      "cell_type": "markdown",
      "metadata": {
        "id": "x_H1RkHTfPFg"
      },
      "source": [
        "##### ```set1.isdisjoint(set2)``` True si los conjuntos no tienen elementos en común"
      ]
    },
    {
      "cell_type": "code",
      "execution_count": null,
      "metadata": {
        "id": "RekDRrt6fPFg",
        "colab": {
          "base_uri": "https://localhost:8080/"
        },
        "outputId": "f5abd6d4-c016-4f60-d981-5eee1bbeef51"
      },
      "outputs": [
        {
          "output_type": "execute_result",
          "data": {
            "text/plain": [
              "False"
            ]
          },
          "metadata": {},
          "execution_count": 167
        }
      ],
      "source": [
        "M2.isdisjoint(M3)"
      ]
    },
    {
      "cell_type": "markdown",
      "metadata": {
        "id": "2k3gAc4yfPFh"
      },
      "source": [
        "# Diccionarios\n",
        "* En Python un “diccionario” es un contenedor de datos que puede almacenar múltiples elementos de datos como una lista de pares `llave:valor`.\n",
        "* A diferencia de las listas y tuplas, cuyos datos se obtienen por referencia a su índice, los valores almacenados en un diccionario se obtienen por referencia a su llave. Además, los datos se pueden modificar\n",
        "* La llave debe ser única en el diccionario, usualmente se usa un texto aunque también puede usarse números.\n",
        "\n",
        "Si ponemos dos valores con la misma llave, lo que hace es reemplazar ese elementos"
      ]
    },
    {
      "cell_type": "code",
      "execution_count": null,
      "metadata": {
        "id": "NcNNAO7-fPFh"
      },
      "outputs": [],
      "source": [
        "king = {'name': 'John Snow',\n",
        "        'age': 24,\n",
        "        'home': 'Winterfell'}"
      ]
    },
    {
      "cell_type": "code",
      "execution_count": null,
      "metadata": {
        "id": "In6DTVP9fPFh",
        "colab": {
          "base_uri": "https://localhost:8080/"
        },
        "outputId": "c7c590b8-a6b3-4aa9-eb48-a2e62b4556ea"
      },
      "outputs": [
        {
          "output_type": "execute_result",
          "data": {
            "text/plain": [
              "{'name': 'John Snow', 'age': 24, 'home': 'Winterfell'}"
            ]
          },
          "metadata": {},
          "execution_count": 172
        }
      ],
      "source": [
        "king"
      ]
    },
    {
      "cell_type": "code",
      "source": [
        "king1= {'name': 'John Snow', 'age': 24, 'age': 2}\n",
        "king1 # como vemos, reemplaza el valor"
      ],
      "metadata": {
        "colab": {
          "base_uri": "https://localhost:8080/"
        },
        "id": "19GJK_UY1V3C",
        "outputId": "158a5d48-6f65-4eeb-b802-6b6c144cbce1"
      },
      "execution_count": null,
      "outputs": [
        {
          "output_type": "execute_result",
          "data": {
            "text/plain": [
              "{'name': 'John Snow', 'age': 2}"
            ]
          },
          "metadata": {},
          "execution_count": 173
        }
      ]
    },
    {
      "cell_type": "markdown",
      "metadata": {
        "id": "f0QcPx6XfPFh"
      },
      "source": [
        "Los diccionarios se pueden crear con la función ```dict```:"
      ]
    },
    {
      "cell_type": "code",
      "execution_count": null,
      "metadata": {
        "id": "qx4-syFBfPFh"
      },
      "outputs": [],
      "source": [
        "friend = dict(name='Samwell Tarly', age=22)"
      ]
    },
    {
      "cell_type": "code",
      "execution_count": null,
      "metadata": {
        "id": "T-CSJVDzfPFh",
        "colab": {
          "base_uri": "https://localhost:8080/"
        },
        "outputId": "d3110c64-b30a-41ad-f392-1177acdcbde5"
      },
      "outputs": [
        {
          "output_type": "execute_result",
          "data": {
            "text/plain": [
              "{'name': 'Samwell Tarly', 'age': 22}"
            ]
          },
          "metadata": {},
          "execution_count": 175
        }
      ],
      "source": [
        "friend"
      ]
    },
    {
      "cell_type": "markdown",
      "metadata": {
        "id": "xtxU4_VVfPFh"
      },
      "source": [
        "Obteniendo datos"
      ]
    },
    {
      "cell_type": "code",
      "execution_count": null,
      "metadata": {
        "id": "1K1cURw7fPFi",
        "colab": {
          "base_uri": "https://localhost:8080/"
        },
        "outputId": "ccb8a79c-3a18-4199-ddeb-d3784fbd8309"
      },
      "outputs": [
        {
          "output_type": "execute_result",
          "data": {
            "text/plain": [
              "24"
            ]
          },
          "metadata": {},
          "execution_count": 176
        }
      ],
      "source": [
        "king['age']"
      ]
    },
    {
      "cell_type": "markdown",
      "metadata": {
        "id": "avB2m-mlfPFi"
      },
      "source": [
        "Modificando datos:"
      ]
    },
    {
      "cell_type": "code",
      "execution_count": null,
      "metadata": {
        "id": "LYr8il-PfPFi",
        "colab": {
          "base_uri": "https://localhost:8080/"
        },
        "outputId": "9558a453-2c9c-448c-d217-e25663902e14"
      },
      "outputs": [
        {
          "output_type": "execute_result",
          "data": {
            "text/plain": [
              "{'name': 'John Snow', 'age': 24, 'home': 'Castle Black'}"
            ]
          },
          "metadata": {},
          "execution_count": 178
        }
      ],
      "source": [
        "king['home'] = 'Castle Black'\n",
        "king"
      ]
    },
    {
      "cell_type": "markdown",
      "metadata": {
        "id": "I9g0bGiFfPFi"
      },
      "source": [
        "Agregando datos:"
      ]
    },
    {
      "cell_type": "code",
      "execution_count": null,
      "metadata": {
        "id": "TMQPhw7dfPFi"
      },
      "outputs": [],
      "source": [
        "king['lover'] = 'Ygritte'\n",
        "king['knows'] = None"
      ]
    },
    {
      "cell_type": "code",
      "execution_count": null,
      "metadata": {
        "id": "Qoi3qJvyfPFi",
        "colab": {
          "base_uri": "https://localhost:8080/"
        },
        "outputId": "b943add4-45e0-4d5b-8f3a-d07652a7b948"
      },
      "outputs": [
        {
          "output_type": "execute_result",
          "data": {
            "text/plain": [
              "{'name': 'John Snow',\n",
              " 'age': 24,\n",
              " 'home': 'Castle Black',\n",
              " 'lover': 'Ygritte',\n",
              " 'knows': None}"
            ]
          },
          "metadata": {},
          "execution_count": 180
        }
      ],
      "source": [
        "king"
      ]
    },
    {
      "cell_type": "markdown",
      "metadata": {
        "id": "vzWkaOMMfPFi"
      },
      "source": [
        "Borrando datos:"
      ]
    },
    {
      "cell_type": "code",
      "execution_count": null,
      "metadata": {
        "id": "Q8Ndg_U9fPFi"
      },
      "outputs": [],
      "source": [
        "del king['lover'] # killed by Olly!"
      ]
    },
    {
      "cell_type": "code",
      "execution_count": null,
      "metadata": {
        "id": "emUT0lFSfPFj",
        "colab": {
          "base_uri": "https://localhost:8080/"
        },
        "outputId": "47fd3852-5cbd-4af3-fffd-14278127927e"
      },
      "outputs": [
        {
          "output_type": "execute_result",
          "data": {
            "text/plain": [
              "{'name': 'John Snow', 'age': 24, 'home': 'Castle Black', 'knows': None}"
            ]
          },
          "metadata": {},
          "execution_count": 182
        }
      ],
      "source": [
        "king"
      ]
    },
    {
      "cell_type": "markdown",
      "metadata": {
        "id": "QFtyVE5-fPFj"
      },
      "source": [
        "Para almacenar un texto muy largo, podemos encerrarlo en triples comillas dobles:"
      ]
    },
    {
      "cell_type": "code",
      "execution_count": null,
      "metadata": {
        "id": "WeA-JRqGfPFj"
      },
      "outputs": [],
      "source": [
        "king['lover'] = \"\"\"Daenerys Stormborn of the House Targaryen, First of Her Name,\n",
        "The Unburnt, Queen of the Andals and the First Men, Khaleesi of the Great Grass Sea,\n",
        "Breaker of Chains, and Mother of Dragons\"\"\""
      ]
    },
    {
      "cell_type": "code",
      "execution_count": null,
      "metadata": {
        "id": "GyEplGn1fPFj",
        "colab": {
          "base_uri": "https://localhost:8080/"
        },
        "outputId": "598e7930-0ab4-4920-bbab-abbf9d48eda2"
      },
      "outputs": [
        {
          "output_type": "stream",
          "name": "stdout",
          "text": [
            "Daenerys Stormborn of the House Targaryen, First of Her Name,\n",
            "The Unburnt, Queen of the Andals and the First Men, Khaleesi of the Great Grass Sea,\n",
            "Breaker of Chains, and Mother of Dragons\n"
          ]
        }
      ],
      "source": [
        "print(king['lover'])"
      ]
    }
  ],
  "metadata": {
    "colab": {
      "provenance": [],
      "include_colab_link": true
    },
    "kernel_info": {
      "name": "python3"
    },
    "kernelspec": {
      "display_name": "Python 3",
      "language": "python",
      "name": "python3"
    },
    "language_info": {
      "codemirror_mode": {
        "name": "ipython",
        "version": 3
      },
      "file_extension": ".py",
      "mimetype": "text/x-python",
      "name": "python",
      "nbconvert_exporter": "python",
      "pygments_lexer": "ipython3",
      "version": "3.7.8"
    },
    "nteract": {
      "version": "0.14.3"
    },
    "toc-autonumbering": false,
    "toc-showtags": false
  },
  "nbformat": 4,
  "nbformat_minor": 0
}