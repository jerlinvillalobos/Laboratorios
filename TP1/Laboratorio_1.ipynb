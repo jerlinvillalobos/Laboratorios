{
  "nbformat": 4,
  "nbformat_minor": 0,
  "metadata": {
    "colab": {
      "provenance": [],
      "authorship_tag": "ABX9TyMX0+joq0dpUIEQccjYgV9z",
      "include_colab_link": true
    },
    "kernelspec": {
      "name": "python3",
      "display_name": "Python 3"
    },
    "language_info": {
      "name": "python"
    }
  },
  "cells": [
    {
      "cell_type": "markdown",
      "metadata": {
        "id": "view-in-github",
        "colab_type": "text"
      },
      "source": [
        "<a href=\"https://colab.research.google.com/github/jerlinvillalobos/Laboratorios/blob/main/TP1/Laboratorio_1.ipynb\" target=\"_parent\"><img src=\"https://colab.research.google.com/assets/colab-badge.svg\" alt=\"Open In Colab\"/></a>"
      ]
    },
    {
      "cell_type": "markdown",
      "source": [
        "<img src=\"https://github.com/randall-romero/EC4301/blob/master/Laboratorios/01--Introducci%C3%B3n-a-Python/figures/escuela-de-economia.png?raw=1\" width=\"260\" height=\"60\">\n",
        "<center>\n",
        "       <b>EC4300 MICROECOMETRÍA</b><br>\n",
        "       <b> Asistente: Jerlin Villalobos Ledezma\n",
        "<br><br>\n",
        "<b> Laboratorio #1:</b>\n",
        "<br>    \n",
        "<div style=\"font-size:250%;color:white; background-color: #0064b0;\">Introducción a Python</div>\n",
        "<div style=\"font-size:175%;color:white; background-color: #0064b0;\"> Variables y operaciones básicas</div>    \n",
        "\n",
        "</center>\n",
        "<br><br>\n",
        "<p style=\"font-size:120%;\">Este cuaderno toma como fuente los cuadernos de Jupyter desarrollados por Phd. Randall Romero. Se toma el\n",
        "    <a href=\"https://colab.research.google.com/github/randall-romero/EC4301/blob/master/Laboratorios/01--Introducci%C3%B3n-a-Python/Python-02--Variables%20y%20operaciones%20b%C3%A1sicas.ipynb\"> Lab de python 02</a>\n",
        "\n",
        "\n",
        "\n",
        "</p>\n",
        "\n",
        "<i> Última actualización del cuaderno original: 2020-Ago-18\n",
        "    <br>\n",
        "    Creado: Julio 30, 2024\n",
        "</i>\n",
        "\n",
        "<hr>"
      ],
      "metadata": {
        "id": "KYWNqNH-FKW4"
      }
    },
    {
      "cell_type": "markdown",
      "source": [
        "# Variables y tipos de datos"
      ],
      "metadata": {
        "id": "4lJIzt1YH5gR"
      }
    },
    {
      "cell_type": "markdown",
      "source": [
        "# Utilizando variables\n",
        "\n",
        "* Una variable es un contenerdor en el cual un dato puede almacenarse en la memoria de la computadora.\n",
        "\n",
        "* El valor almacenado puede luego ser referido usando el nombre de la variable."
      ],
      "metadata": {
        "id": "FRhIkraHJGtd"
      }
    },
    {
      "cell_type": "code",
      "execution_count": null,
      "metadata": {
        "colab": {
          "base_uri": "https://localhost:8080/"
        },
        "id": "QgddqFeyFHaR",
        "outputId": "873a43f6-9d6a-44d7-bfd7-be5cdcd7ee13"
      },
      "outputs": [
        {
          "output_type": "stream",
          "name": "stdout",
          "text": [
            "3\n",
            "3.14\n",
            "Fulano y Mengano\n",
            "True\n",
            "3 - 3.14 - Fulano y Mengano - True\n"
          ]
        }
      ],
      "source": [
        "mosqueteros = 3\n",
        "pi = 3.14\n",
        "nombres = \"Fulano y Mengano\"\n",
        "hoyLlueve = True\n",
        "\n",
        "print(mosqueteros, pi, nombres, hoyLlueve, sep=\"\\n\")\n",
        "print(mosqueteros, pi, nombres, hoyLlueve, sep=\" - \")"
      ]
    },
    {
      "cell_type": "markdown",
      "source": [
        "* En el código anterior, permite imprimir los valores a los que corresponden cada variable que definimos. Además, true funciona como una condición. sep= \" \" nos permite poner la forma en la que queremos separar nuestros datos. Por ejemplo, \"/n\" permite devolver los datos en forma vertical."
      ],
      "metadata": {
        "id": "suzYQK2FK68q"
      }
    },
    {
      "cell_type": "code",
      "source": [
        "# print(f\"\") es una manera de imprimir en un formato distinto. Se conocen como f strings.\n",
        "# Un ejemplo de la sintaxis es el siguiente:\n",
        "numero1 = 1\n",
        "numero2 = 2\n",
        "\n",
        "# las variables se encierran en {}\n",
        "print(f\"Ejemplo de suma:\\n{numero1} + {numero2} es igual a {numero1 + numero2 }\")\n"
      ],
      "metadata": {
        "colab": {
          "base_uri": "https://localhost:8080/"
        },
        "id": "Al7xRVWbRYIf",
        "outputId": "9768c7d0-6a2f-4635-f6a0-e45b0531f3ed"
      },
      "execution_count": null,
      "outputs": [
        {
          "output_type": "stream",
          "name": "stdout",
          "text": [
            "Ejemplo de suma:\n",
            "1 + 2 es igual a 3\n"
          ]
        }
      ]
    },
    {
      "cell_type": "markdown",
      "source": [
        "Este print(f\"\") nos permite hacer, por ejemplo, operaciones dentro del mismo print. Es una forma de encadenar variables de texto y númericas."
      ],
      "metadata": {
        "id": "TmGm0WjJSURR"
      }
    },
    {
      "cell_type": "markdown",
      "source": [
        "## Tipos de datos básicos\n",
        "\n",
        "Hay 4 tipos básicos de datos\n",
        "\n",
        "* `int` enteros\n",
        "* `float` punto flotantes (números decimales)\n",
        "* `bool` boolean (True o False)\n",
        "* `str` texto"
      ],
      "metadata": {
        "id": "82aX8yBQMsI7"
      }
    },
    {
      "cell_type": "markdown",
      "source": [],
      "metadata": {
        "id": "i3mdp0NGRXva"
      }
    },
    {
      "cell_type": "code",
      "source": [
        "type(mosqueteros)"
      ],
      "metadata": {
        "colab": {
          "base_uri": "https://localhost:8080/"
        },
        "id": "MwAhf1FCNHFi",
        "outputId": "a99960b3-2e12-49d1-e4e1-be888831dce7"
      },
      "execution_count": null,
      "outputs": [
        {
          "output_type": "execute_result",
          "data": {
            "text/plain": [
              "int"
            ]
          },
          "metadata": {},
          "execution_count": 17
        }
      ]
    },
    {
      "cell_type": "code",
      "source": [
        "type(pi)"
      ],
      "metadata": {
        "colab": {
          "base_uri": "https://localhost:8080/"
        },
        "id": "3Wk16tlENW95",
        "outputId": "85d65068-c668-4e13-af4b-a11f935a0138"
      },
      "execution_count": null,
      "outputs": [
        {
          "output_type": "execute_result",
          "data": {
            "text/plain": [
              "float"
            ]
          },
          "metadata": {},
          "execution_count": 18
        }
      ]
    },
    {
      "cell_type": "code",
      "source": [
        "type(nombres)"
      ],
      "metadata": {
        "colab": {
          "base_uri": "https://localhost:8080/"
        },
        "id": "4QNfE36xNntg",
        "outputId": "4eb8b195-1cec-4b45-950e-95e66795747b"
      },
      "execution_count": null,
      "outputs": [
        {
          "output_type": "execute_result",
          "data": {
            "text/plain": [
              "str"
            ]
          },
          "metadata": {},
          "execution_count": 19
        }
      ]
    },
    {
      "cell_type": "code",
      "source": [
        "type(hoyLlueve)"
      ],
      "metadata": {
        "colab": {
          "base_uri": "https://localhost:8080/"
        },
        "id": "gEMYSbmkOeaI",
        "outputId": "6ed762e6-a3ef-4df2-db4e-cad4443364a0"
      },
      "execution_count": null,
      "outputs": [
        {
          "output_type": "execute_result",
          "data": {
            "text/plain": [
              "bool"
            ]
          },
          "metadata": {},
          "execution_count": 23
        }
      ]
    },
    {
      "cell_type": "code",
      "source": [
        "cuatro = 4.0\n",
        "type(cuatro)"
      ],
      "metadata": {
        "colab": {
          "base_uri": "https://localhost:8080/"
        },
        "id": "plx5qFyUOkGd",
        "outputId": "c3b8f604-9062-4608-ff85-9e25a3e2c55e"
      },
      "execution_count": null,
      "outputs": [
        {
          "output_type": "execute_result",
          "data": {
            "text/plain": [
              "float"
            ]
          },
          "metadata": {},
          "execution_count": 24
        }
      ]
    },
    {
      "cell_type": "markdown",
      "source": [
        "* El código anterior \"type\" nos permite saber que tipo de variable es la que tenemos, esto es muy útil, dado que cuando tenemos bases de datos, necesitamos saber con que tipo de variable estamos tratando, ya sea de texto, númerica..."
      ],
      "metadata": {
        "id": "677IykAgPZ0q"
      }
    },
    {
      "cell_type": "markdown",
      "source": [
        "# Cuidado con float\n",
        "\n",
        "Los floats en general representan aproximaciones de los números reales. Sin embargo, en ocasiones no se muestra los números exactos porque hay errores de redondeo al almacenar un número binario con un tamaño finito.\n"
      ],
      "metadata": {
        "id": "LjZ-qK27P-Zd"
      }
    },
    {
      "cell_type": "code",
      "source": [
        "(1e-18 + 1) - 1"
      ],
      "metadata": {
        "colab": {
          "base_uri": "https://localhost:8080/"
        },
        "id": "iKBHNTV8S0GP",
        "outputId": "846e9093-0e78-4fbc-f733-95d5eff0b008"
      },
      "execution_count": null,
      "outputs": [
        {
          "output_type": "execute_result",
          "data": {
            "text/plain": [
              "0.0"
            ]
          },
          "metadata": {},
          "execution_count": 36
        }
      ]
    },
    {
      "cell_type": "markdown",
      "source": [
        "Acá, python interpreta que primero se realiza la operación entre paréntesis, el (1e-18) es notación científica, por lo cual, es un número muy cercano a cero. Y por eso, el resultado nos da 0.0"
      ],
      "metadata": {
        "id": "Crd6su5lVGTK"
      }
    },
    {
      "cell_type": "code",
      "source": [
        "1e-18 + (1 - 1)"
      ],
      "metadata": {
        "colab": {
          "base_uri": "https://localhost:8080/"
        },
        "id": "HXYxJRo8TZKP",
        "outputId": "1b4447ee-45a6-4303-c847-5b493f54cd17"
      },
      "execution_count": null,
      "outputs": [
        {
          "output_type": "execute_result",
          "data": {
            "text/plain": [
              "1e-18"
            ]
          },
          "metadata": {},
          "execution_count": 37
        }
      ]
    },
    {
      "cell_type": "markdown",
      "source": [
        "En este ejemplo, aunque es términos matemáticos es lo mismo que el código anterior, se debe de tener cuidado con los paréntesis en las operaciones."
      ],
      "metadata": {
        "id": "Pbu5qSaaVk5O"
      }
    },
    {
      "cell_type": "markdown",
      "source": [],
      "metadata": {
        "id": "J26GPry1UJrz"
      }
    },
    {
      "cell_type": "code",
      "source": [
        "z = 0.1\n",
        "f\"z = 0.1 queda almacenado como {z:.24f}\""
      ],
      "metadata": {
        "colab": {
          "base_uri": "https://localhost:8080/",
          "height": 35
        },
        "id": "4z7BMbD1Ta6h",
        "outputId": "f13e3f41-c1ce-4c84-9710-2185f5577fce"
      },
      "execution_count": null,
      "outputs": [
        {
          "output_type": "execute_result",
          "data": {
            "text/plain": [
              "'z = 0.1 queda almacenado como 0.100000000000000005551115'"
            ],
            "application/vnd.google.colaboratory.intrinsic+json": {
              "type": "string"
            }
          },
          "metadata": {},
          "execution_count": 35
        }
      ]
    },
    {
      "cell_type": "markdown",
      "source": [
        "Como se puede notar, al poner 24 decimales, \"(z:.24f)\" (así podemos definir la cantidad de decimales), después de una cantidad de decimales, nos da números que no son parte del resultado, dado que z se definió como 0.1."
      ],
      "metadata": {
        "id": "JUJfFle3UTFA"
      }
    },
    {
      "cell_type": "markdown",
      "source": [
        "## Tipos de colecciones\n",
        "Los tipos de colecciones más utilizados son\n",
        "* `list` una lista ordenada y mutable de valores\n",
        "* `tuple` una lista ordenada e inmutable de valores\n",
        "* `set` una lista mutable pero no ordenada de valores\n",
        "* `dict` un diccionario no ordenado"
      ],
      "metadata": {
        "id": "qewY_xOTV3ED"
      }
    },
    {
      "cell_type": "code",
      "source": [
        "colores = ['azul', 'rojo', 'verde']   # list\n",
        "primos = (2,3,5,7)  # tuple\n",
        "inflacion = {'CRI': 2.0, 'SLV': 0.8, 'GTM': 4.0,\n",
        "             'HND': 4.0, 'NIC': 5.2, 'DOM': 4.5}  # dict\n",
        "cuadrados = {1,1,1,4,4,9,9,16}  # set"
      ],
      "metadata": {
        "id": "N8F8ziE3V6Iz"
      },
      "execution_count": null,
      "outputs": []
    },
    {
      "cell_type": "code",
      "source": [
        "print(colores,primos,inflacion,cuadrados,sep=\"\\n\")"
      ],
      "metadata": {
        "colab": {
          "base_uri": "https://localhost:8080/"
        },
        "id": "-H8tgleDXEje",
        "outputId": "0adb0cd9-3f29-41b6-c40e-94ab7e067b96"
      },
      "execution_count": null,
      "outputs": [
        {
          "output_type": "stream",
          "name": "stdout",
          "text": [
            "['azul', 'rojo', 'verde']\n",
            "(2, 3, 5, 7)\n",
            "{'CRI': 2.0, 'SLV': 0.8, 'GTM': 4.0, 'HND': 4.0, 'NIC': 5.2, 'DOM': 4.5}\n",
            "{16, 1, 4, 9}\n"
          ]
        }
      ]
    },
    {
      "cell_type": "markdown",
      "source": [
        "Las listas son formas de trabajar con una cantidad de datos en una sola variable.\n",
        "Ahora, las tuplas son un conjunto de elementos que no puedo modificar después de definirlo.\n",
        "El diccionario es una estructura de datos que almacena los valores en pares, los nombres(llaves) y los valores.\n",
        "Set por su parte, los valores no necesariamente se imprimen en orden."
      ],
      "metadata": {
        "id": "d5IOYNE-X454"
      }
    },
    {
      "cell_type": "markdown",
      "source": [
        "# Definiendo múltiples variables\n",
        "\n",
        "En Python es posible definir varias variables en una sola insrucción."
      ],
      "metadata": {
        "id": "LPRBfMP-ZzP-"
      }
    },
    {
      "cell_type": "code",
      "source": [
        "n, a, b = 12, -2.0, 2.0"
      ],
      "metadata": {
        "id": "I3bX5LKDaH1y"
      },
      "execution_count": null,
      "outputs": []
    },
    {
      "cell_type": "code",
      "source": [
        "x = y = z = 1"
      ],
      "metadata": {
        "id": "NE2VBacXaKK6"
      },
      "execution_count": null,
      "outputs": []
    },
    {
      "cell_type": "code",
      "source": [
        "y"
      ],
      "metadata": {
        "colab": {
          "base_uri": "https://localhost:8080/"
        },
        "id": "lepxNzZjaMF8",
        "outputId": "e67d98ee-ee03-43c5-d42f-0f6274091122"
      },
      "execution_count": null,
      "outputs": [
        {
          "output_type": "execute_result",
          "data": {
            "text/plain": [
              "1"
            ]
          },
          "metadata": {},
          "execution_count": 45
        }
      ]
    },
    {
      "cell_type": "markdown",
      "source": [
        "# Cambiando tipos de datos: casting"
      ],
      "metadata": {
        "id": "dCVCmy7PaVW6"
      }
    },
    {
      "cell_type": "code",
      "source": [
        "'8' + '4'"
      ],
      "metadata": {
        "colab": {
          "base_uri": "https://localhost:8080/",
          "height": 35
        },
        "id": "pSR906lyac1-",
        "outputId": "946401d7-085c-43c2-ca71-3b91e74b9825"
      },
      "execution_count": null,
      "outputs": [
        {
          "output_type": "execute_result",
          "data": {
            "text/plain": [
              "'84'"
            ],
            "application/vnd.google.colaboratory.intrinsic+json": {
              "type": "string"
            }
          },
          "metadata": {},
          "execution_count": 46
        }
      ]
    },
    {
      "cell_type": "markdown",
      "source": [
        "Como los valores están entre comillas los valores son tomados como string, es decir, de texto."
      ],
      "metadata": {
        "id": "SErmKeRzcSdF"
      }
    },
    {
      "cell_type": "code",
      "source": [
        "'8' * 4"
      ],
      "metadata": {
        "colab": {
          "base_uri": "https://localhost:8080/",
          "height": 35
        },
        "id": "oQ1tDas-aeLX",
        "outputId": "eab8f673-caf8-4842-bd72-402eda666b58"
      },
      "execution_count": null,
      "outputs": [
        {
          "output_type": "execute_result",
          "data": {
            "text/plain": [
              "'8888'"
            ],
            "application/vnd.google.colaboratory.intrinsic+json": {
              "type": "string"
            }
          },
          "metadata": {},
          "execution_count": 50
        }
      ]
    },
    {
      "cell_type": "markdown",
      "source": [
        "##### ```int(x)``` Convierte ```x``` a un número entero"
      ],
      "metadata": {
        "id": "g552d14aaytf"
      }
    },
    {
      "cell_type": "code",
      "source": [
        "int('8') + int('4')"
      ],
      "metadata": {
        "colab": {
          "base_uri": "https://localhost:8080/"
        },
        "id": "_t_m5E1daxyM",
        "outputId": "61583bde-bbf1-472c-c12f-9035abd6c8f4"
      },
      "execution_count": null,
      "outputs": [
        {
          "output_type": "execute_result",
          "data": {
            "text/plain": [
              "12"
            ]
          },
          "metadata": {},
          "execution_count": 51
        }
      ]
    },
    {
      "cell_type": "markdown",
      "source": [
        "##### ```float(x)``` Convierte ```x``` a un número de punto flotante"
      ],
      "metadata": {
        "id": "NSc8uToZa6zE"
      }
    },
    {
      "cell_type": "code",
      "source": [
        "float('8') + float('4')"
      ],
      "metadata": {
        "colab": {
          "base_uri": "https://localhost:8080/"
        },
        "id": "i2d6mXS1a9aq",
        "outputId": "a8184ea5-bae3-4f15-c917-30711e93329b"
      },
      "execution_count": null,
      "outputs": [
        {
          "output_type": "execute_result",
          "data": {
            "text/plain": [
              "12.0"
            ]
          },
          "metadata": {},
          "execution_count": 53
        }
      ]
    },
    {
      "cell_type": "markdown",
      "source": [
        "##### ```str(x)``` Convierte ```x``` a una representación de texto"
      ],
      "metadata": {
        "id": "gvS7h75zbDSq"
      }
    },
    {
      "cell_type": "code",
      "source": [
        "str(8) + str(4)"
      ],
      "metadata": {
        "colab": {
          "base_uri": "https://localhost:8080/",
          "height": 35
        },
        "id": "Jrge5Bu0bFnx",
        "outputId": "970eced2-e34c-41fc-9e73-9fd25f80128c"
      },
      "execution_count": null,
      "outputs": [
        {
          "output_type": "execute_result",
          "data": {
            "text/plain": [
              "'84'"
            ],
            "application/vnd.google.colaboratory.intrinsic+json": {
              "type": "string"
            }
          },
          "metadata": {},
          "execution_count": 54
        }
      ]
    },
    {
      "cell_type": "markdown",
      "source": [
        "Al ser variables de texto, el \"+\", lo que hace es juntar los valores como tal y no sumarlos."
      ],
      "metadata": {
        "id": "ejlWDzArc_hD"
      }
    },
    {
      "cell_type": "markdown",
      "source": [
        "# Operadores básicos"
      ],
      "metadata": {
        "id": "WutFhbSN4oq1"
      }
    },
    {
      "cell_type": "markdown",
      "source": [
        "Operadores aritméticos"
      ],
      "metadata": {
        "id": "Tw9jwIpl4wA8"
      }
    },
    {
      "cell_type": "markdown",
      "source": [
        "Suma: +"
      ],
      "metadata": {
        "id": "j_Z9JrK940RT"
      }
    },
    {
      "cell_type": "code",
      "source": [
        "2 + 3"
      ],
      "metadata": {
        "colab": {
          "base_uri": "https://localhost:8080/"
        },
        "id": "V7DqNMTY331B",
        "outputId": "ba123c70-6630-4fd8-e24e-23969f1edb40"
      },
      "execution_count": null,
      "outputs": [
        {
          "output_type": "execute_result",
          "data": {
            "text/plain": [
              "5"
            ]
          },
          "metadata": {},
          "execution_count": 1
        }
      ]
    },
    {
      "cell_type": "markdown",
      "source": [
        "Resta: -"
      ],
      "metadata": {
        "id": "2V99WFAj49Rv"
      }
    },
    {
      "cell_type": "code",
      "source": [
        "5 - 1.0"
      ],
      "metadata": {
        "colab": {
          "base_uri": "https://localhost:8080/"
        },
        "id": "Vnu4YiAy47Pq",
        "outputId": "0195f10f-6370-4302-f134-7248e565b75b"
      },
      "execution_count": null,
      "outputs": [
        {
          "output_type": "execute_result",
          "data": {
            "text/plain": [
              "4.0"
            ]
          },
          "metadata": {},
          "execution_count": 2
        }
      ]
    },
    {
      "cell_type": "markdown",
      "source": [
        "Multiplicación: *"
      ],
      "metadata": {
        "id": "PGKeR9Sn5Er4"
      }
    },
    {
      "cell_type": "code",
      "source": [
        "4 * 4"
      ],
      "metadata": {
        "colab": {
          "base_uri": "https://localhost:8080/"
        },
        "id": "7Qm8u_S_5Gvq",
        "outputId": "3804f13e-3c16-4105-a70c-546480afc8b3"
      },
      "execution_count": null,
      "outputs": [
        {
          "output_type": "execute_result",
          "data": {
            "text/plain": [
              "16"
            ]
          },
          "metadata": {},
          "execution_count": 3
        }
      ]
    },
    {
      "cell_type": "markdown",
      "source": [
        "División: /"
      ],
      "metadata": {
        "id": "ivVeR3sT5J4g"
      }
    },
    {
      "cell_type": "code",
      "source": [
        "9 / 3"
      ],
      "metadata": {
        "colab": {
          "base_uri": "https://localhost:8080/"
        },
        "id": "cB7sToTU5KAO",
        "outputId": "0a900ee0-ee30-4a76-d9c3-e9af02552899"
      },
      "execution_count": null,
      "outputs": [
        {
          "output_type": "execute_result",
          "data": {
            "text/plain": [
              "3.0"
            ]
          },
          "metadata": {},
          "execution_count": 4
        }
      ]
    },
    {
      "cell_type": "markdown",
      "source": [
        "Módulo: %\n",
        "\n",
        "\n",
        "\n"
      ],
      "metadata": {
        "id": "Yhi7G3Nz6nDB"
      }
    },
    {
      "cell_type": "code",
      "source": [
        "10 % 3"
      ],
      "metadata": {
        "colab": {
          "base_uri": "https://localhost:8080/"
        },
        "id": "sXO1ZGIx6l39",
        "outputId": "0662f445-dfde-4d3f-de4b-55c1fd6a6e3c"
      },
      "execution_count": null,
      "outputs": [
        {
          "output_type": "execute_result",
          "data": {
            "text/plain": [
              "1"
            ]
          },
          "metadata": {},
          "execution_count": 5
        }
      ]
    },
    {
      "cell_type": "markdown",
      "source": [
        "División entera: //"
      ],
      "metadata": {
        "id": "oGVbEgrq6yYl"
      }
    },
    {
      "cell_type": "code",
      "source": [
        "10 // 3"
      ],
      "metadata": {
        "colab": {
          "base_uri": "https://localhost:8080/"
        },
        "id": "qPWJgSg061MS",
        "outputId": "3f137b95-c4f4-4129-c9f5-40618b2e3990"
      },
      "execution_count": null,
      "outputs": [
        {
          "output_type": "execute_result",
          "data": {
            "text/plain": [
              "3"
            ]
          },
          "metadata": {},
          "execution_count": 6
        }
      ]
    },
    {
      "cell_type": "markdown",
      "source": [
        "Exponente: **"
      ],
      "metadata": {
        "id": "MbAgHH8Z64_5"
      }
    },
    {
      "cell_type": "code",
      "source": [
        "5 ** 2"
      ],
      "metadata": {
        "colab": {
          "base_uri": "https://localhost:8080/"
        },
        "id": "0HiCjBfm67Fz",
        "outputId": "986e31c8-52b5-4154-abfb-058574c1c430"
      },
      "execution_count": null,
      "outputs": [
        {
          "output_type": "execute_result",
          "data": {
            "text/plain": [
              "25"
            ]
          },
          "metadata": {},
          "execution_count": 7
        }
      ]
    },
    {
      "cell_type": "markdown",
      "source": [
        "# Asignando valores por medio de operadores"
      ],
      "metadata": {
        "id": "HFyq1_6Z69l_"
      }
    },
    {
      "cell_type": "markdown",
      "source": [
        "##### a `=` b    $\\qquad\\Rightarrow\\qquad$ a = b"
      ],
      "metadata": {
        "id": "_lKBdV_c7D2P"
      }
    },
    {
      "cell_type": "code",
      "source": [
        "x = 2 + 1\n",
        "x"
      ],
      "metadata": {
        "colab": {
          "base_uri": "https://localhost:8080/"
        },
        "id": "B4_kCcKT7Bxv",
        "outputId": "32352524-1786-4e14-9861-3ab090830679"
      },
      "execution_count": null,
      "outputs": [
        {
          "output_type": "execute_result",
          "data": {
            "text/plain": [
              "3"
            ]
          },
          "metadata": {},
          "execution_count": 22
        }
      ]
    },
    {
      "cell_type": "markdown",
      "source": [
        "##### a `+=` b    $\\qquad\\Rightarrow\\qquad$ a = a + b"
      ],
      "metadata": {
        "id": "RNlaAVNz7K1o"
      }
    },
    {
      "cell_type": "code",
      "source": [
        "x += 1\n",
        "x\n",
        "\n",
        "#Es lo mismo que poner\n",
        "#x = x + 1\n",
        "#x\n",
        "#"
      ],
      "metadata": {
        "colab": {
          "base_uri": "https://localhost:8080/"
        },
        "id": "L2-BhdPy7Wdn",
        "outputId": "ea966ff1-a5e5-438e-959f-80f0d14d2329"
      },
      "execution_count": null,
      "outputs": [
        {
          "output_type": "execute_result",
          "data": {
            "text/plain": [
              "4"
            ]
          },
          "metadata": {},
          "execution_count": 20
        }
      ]
    },
    {
      "cell_type": "markdown",
      "source": [
        "##### a `-=` b    $\\qquad\\Rightarrow\\qquad$ a = a - b"
      ],
      "metadata": {
        "id": "-97CWvhb7_mE"
      }
    },
    {
      "cell_type": "code",
      "source": [
        "x = 2 + 1\n",
        "x -= 2\n",
        "x"
      ],
      "metadata": {
        "colab": {
          "base_uri": "https://localhost:8080/"
        },
        "id": "kNgEykjX7thu",
        "outputId": "295c662a-6714-4dc8-9e9e-23377f1d6a36"
      },
      "execution_count": null,
      "outputs": [
        {
          "output_type": "execute_result",
          "data": {
            "text/plain": [
              "1"
            ]
          },
          "metadata": {},
          "execution_count": 24
        }
      ]
    },
    {
      "cell_type": "markdown",
      "source": [
        "##### a `*=` b    $\\qquad\\Rightarrow\\qquad$ a = a \\* b"
      ],
      "metadata": {
        "id": "X4TZnUYO7_IU"
      }
    },
    {
      "cell_type": "code",
      "source": [
        "x = 2 + 1\n",
        "x *= 2\n",
        "x"
      ],
      "metadata": {
        "colab": {
          "base_uri": "https://localhost:8080/"
        },
        "id": "_wUXRz6t8Vjc",
        "outputId": "64b13f92-4ca0-498b-8b70-9b6c0a974d8a"
      },
      "execution_count": null,
      "outputs": [
        {
          "output_type": "execute_result",
          "data": {
            "text/plain": [
              "6"
            ]
          },
          "metadata": {},
          "execution_count": 25
        }
      ]
    },
    {
      "cell_type": "markdown",
      "source": [
        "##### a `/=` b    $\\qquad\\Rightarrow\\qquad$ a = a / b"
      ],
      "metadata": {
        "id": "AJ4tdIsF7-4L"
      }
    },
    {
      "cell_type": "code",
      "source": [
        "x = 2 + 1\n",
        "x /= 0.25\n",
        "x"
      ],
      "metadata": {
        "colab": {
          "base_uri": "https://localhost:8080/"
        },
        "id": "AXD4U87T8db_",
        "outputId": "2dfdecfe-8065-492a-941b-99195423682f"
      },
      "execution_count": null,
      "outputs": [
        {
          "output_type": "execute_result",
          "data": {
            "text/plain": [
              "12.0"
            ]
          },
          "metadata": {},
          "execution_count": 26
        }
      ]
    },
    {
      "cell_type": "markdown",
      "source": [
        "##### a `%=` b    $\\qquad\\Rightarrow\\qquad$ a = a % b"
      ],
      "metadata": {
        "id": "6dAdJZIY8nrQ"
      }
    },
    {
      "cell_type": "code",
      "source": [
        "x = 2 + 1\n",
        "x %= 5\n",
        "x"
      ],
      "metadata": {
        "colab": {
          "base_uri": "https://localhost:8080/"
        },
        "id": "k1LYNjvw80Nm",
        "outputId": "5d45c3d4-9f28-48ed-d461-9f537560bd48"
      },
      "execution_count": null,
      "outputs": [
        {
          "output_type": "execute_result",
          "data": {
            "text/plain": [
              "3"
            ]
          },
          "metadata": {},
          "execution_count": 27
        }
      ]
    },
    {
      "cell_type": "markdown",
      "source": [
        "##### a `//=` b    $\\qquad\\Rightarrow\\qquad$ a = a // b"
      ],
      "metadata": {
        "id": "mKp-mX119ESm"
      }
    },
    {
      "cell_type": "code",
      "source": [
        "x = 2 + 1\n",
        "x //= 1.25\n",
        "x"
      ],
      "metadata": {
        "colab": {
          "base_uri": "https://localhost:8080/"
        },
        "id": "xVSyJS0T9FAE",
        "outputId": "63ea593e-8343-49d9-c340-ca313b20f1ed"
      },
      "execution_count": null,
      "outputs": [
        {
          "output_type": "execute_result",
          "data": {
            "text/plain": [
              "2.0"
            ]
          },
          "metadata": {},
          "execution_count": 28
        }
      ]
    },
    {
      "cell_type": "markdown",
      "source": [
        "##### a `**`= b    $\\qquad\\Rightarrow\\qquad$ a = a \\*\\* b"
      ],
      "metadata": {
        "id": "DjuQzVte9NUM"
      }
    },
    {
      "cell_type": "code",
      "source": [
        "x = 2 + 1\n",
        "x **= 2\n",
        "x"
      ],
      "metadata": {
        "colab": {
          "base_uri": "https://localhost:8080/"
        },
        "id": "MLxUcK5o9N3V",
        "outputId": "ea41883e-3354-4d0d-f36c-7b48e5799973"
      },
      "execution_count": null,
      "outputs": [
        {
          "output_type": "execute_result",
          "data": {
            "text/plain": [
              "9"
            ]
          },
          "metadata": {},
          "execution_count": 29
        }
      ]
    },
    {
      "cell_type": "markdown",
      "source": [
        "# Comparando valores"
      ],
      "metadata": {
        "id": "C4A3LWNk9Vhx"
      }
    },
    {
      "cell_type": "markdown",
      "source": [
        "##### Igualdad    `==`"
      ],
      "metadata": {
        "id": "7gvQ8TX99X3B"
      }
    },
    {
      "cell_type": "code",
      "source": [
        "5 == 5.0"
      ],
      "metadata": {
        "colab": {
          "base_uri": "https://localhost:8080/"
        },
        "id": "jAuMD4-f9ZzL",
        "outputId": "a6e406f4-5197-43a7-af7c-75fbefcab0c1"
      },
      "execution_count": null,
      "outputs": [
        {
          "output_type": "execute_result",
          "data": {
            "text/plain": [
              "True"
            ]
          },
          "metadata": {},
          "execution_count": 30
        }
      ]
    },
    {
      "cell_type": "markdown",
      "source": [
        "##### Desigualdad  `!=`"
      ],
      "metadata": {
        "id": "LbZlnTyu9lpD"
      }
    },
    {
      "cell_type": "code",
      "source": [
        "4 != 4.0"
      ],
      "metadata": {
        "colab": {
          "base_uri": "https://localhost:8080/"
        },
        "id": "n2GysuVr9nnM",
        "outputId": "08c2f174-32ad-457e-84f1-cacabbc28016"
      },
      "execution_count": null,
      "outputs": [
        {
          "output_type": "execute_result",
          "data": {
            "text/plain": [
              "False"
            ]
          },
          "metadata": {},
          "execution_count": 31
        }
      ]
    },
    {
      "cell_type": "markdown",
      "source": [
        "##### Mayor que `> `"
      ],
      "metadata": {
        "id": "OkEP4HF49vnm"
      }
    },
    {
      "cell_type": "code",
      "source": [
        "5 > 4"
      ],
      "metadata": {
        "colab": {
          "base_uri": "https://localhost:8080/"
        },
        "id": "7TH7Ua8b9x8k",
        "outputId": "0ac1b5a7-9a77-4d5c-ad89-8966748b4dca"
      },
      "execution_count": null,
      "outputs": [
        {
          "output_type": "execute_result",
          "data": {
            "text/plain": [
              "True"
            ]
          },
          "metadata": {},
          "execution_count": 32
        }
      ]
    },
    {
      "cell_type": "markdown",
      "source": [
        "##### Menor que `<`"
      ],
      "metadata": {
        "id": "Jbl2XUh491Jr"
      }
    },
    {
      "cell_type": "code",
      "source": [
        "5 < 4"
      ],
      "metadata": {
        "colab": {
          "base_uri": "https://localhost:8080/"
        },
        "id": "paL1xjXh945V",
        "outputId": "815de4e9-dc29-4196-b8a2-4ffc5e95301b"
      },
      "execution_count": null,
      "outputs": [
        {
          "output_type": "execute_result",
          "data": {
            "text/plain": [
              "False"
            ]
          },
          "metadata": {},
          "execution_count": 33
        }
      ]
    },
    {
      "cell_type": "markdown",
      "source": [],
      "metadata": {
        "id": "ebksyEQd-fP3"
      }
    },
    {
      "cell_type": "markdown",
      "source": [
        "##### Mayor o igual que `>=`"
      ],
      "metadata": {
        "id": "2v7EDon4-aTr"
      }
    },
    {
      "cell_type": "code",
      "source": [
        "4 >=4"
      ],
      "metadata": {
        "colab": {
          "base_uri": "https://localhost:8080/"
        },
        "id": "DIcfrt_X-hFa",
        "outputId": "e45e4688-2546-4e9f-8b0f-7f4de781bdf7"
      },
      "execution_count": null,
      "outputs": [
        {
          "output_type": "execute_result",
          "data": {
            "text/plain": [
              "True"
            ]
          },
          "metadata": {},
          "execution_count": 34
        }
      ]
    },
    {
      "cell_type": "markdown",
      "source": [
        "##### Menor o igual que `<=`"
      ],
      "metadata": {
        "id": "2090JF0F-CEU"
      }
    },
    {
      "cell_type": "code",
      "source": [
        "5 <= 5"
      ],
      "metadata": {
        "colab": {
          "base_uri": "https://localhost:8080/"
        },
        "id": "i-QcwZuu-okR",
        "outputId": "6fe9eb66-1d42-4055-a108-14aac00211f6"
      },
      "execution_count": null,
      "outputs": [
        {
          "output_type": "execute_result",
          "data": {
            "text/plain": [
              "True"
            ]
          },
          "metadata": {},
          "execution_count": 35
        }
      ]
    },
    {
      "cell_type": "markdown",
      "source": [
        "# Operaciones lógicas"
      ],
      "metadata": {
        "id": "qCw1jNZv-rjf"
      }
    },
    {
      "cell_type": "markdown",
      "source": [
        "#####  AND lógico:  `and`"
      ],
      "metadata": {
        "id": "gBmCiyWe-vbe"
      }
    },
    {
      "cell_type": "code",
      "source": [
        "1 > 2 and 1 < 4"
      ],
      "metadata": {
        "colab": {
          "base_uri": "https://localhost:8080/"
        },
        "id": "rVrTcBm--x_R",
        "outputId": "3d3f8483-42f5-4daf-e041-08f7e35cd2e4"
      },
      "execution_count": null,
      "outputs": [
        {
          "output_type": "execute_result",
          "data": {
            "text/plain": [
              "False"
            ]
          },
          "metadata": {},
          "execution_count": 36
        }
      ]
    },
    {
      "cell_type": "markdown",
      "source": [
        "##### OR lógico:  `or`"
      ],
      "metadata": {
        "id": "iG5uwb9_-1bZ"
      }
    },
    {
      "cell_type": "code",
      "source": [
        "1 > 2 or 1 < 4"
      ],
      "metadata": {
        "colab": {
          "base_uri": "https://localhost:8080/"
        },
        "id": "YpvmiMF--4N4",
        "outputId": "82855ec9-6f16-4610-fc66-f14463b95692"
      },
      "execution_count": null,
      "outputs": [
        {
          "output_type": "execute_result",
          "data": {
            "text/plain": [
              "True"
            ]
          },
          "metadata": {},
          "execution_count": 37
        }
      ]
    },
    {
      "cell_type": "markdown",
      "source": [
        "##### NOT lógico   `not`"
      ],
      "metadata": {
        "id": "heXG3ZNN-5W1"
      }
    },
    {
      "cell_type": "code",
      "source": [
        "not 5 > 4"
      ],
      "metadata": {
        "colab": {
          "base_uri": "https://localhost:8080/"
        },
        "id": "9yJS6EuP-7MN",
        "outputId": "22055c4e-0691-4473-ec88-952b9551bcad"
      },
      "execution_count": null,
      "outputs": [
        {
          "output_type": "execute_result",
          "data": {
            "text/plain": [
              "False"
            ]
          },
          "metadata": {},
          "execution_count": 39
        }
      ]
    },
    {
      "cell_type": "markdown",
      "source": [
        "\n",
        "\n",
        "\n",
        "####  El operador  `not` invierte el valor de verdad de la expresión a la que se aplica.\n",
        "#### Es decir, si la expresión es `True`, `not` la convierte en `False`, y si es `False`, la convierte en `True`.\n",
        "\n",
        "\n",
        "\n",
        "\n",
        "\n",
        "\n",
        "\n",
        "\n"
      ],
      "metadata": {
        "id": "uE2SJlzE_H8D"
      }
    }
  ]
}